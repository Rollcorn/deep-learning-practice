{
 "cells": [
  {
   "cell_type": "markdown",
   "metadata": {},
   "source": [
    "# Лабораторная работа. Рекомендательные системы.\n",
    "\n",
    "\n",
    "\n",
    "Сдавать ноутбук не нужно, все задания сдаются в системе Яндекс Контест.\n",
    "\n",
    "\n",
    "### Оценивание и штрафы\n",
    "Каждая из задач имеет определенную «стоимость» (указана в скобках около задачи). Максимально допустимая оценка за работу — 13 баллов. Сдавать задание после указанного в контесте срока сдачи нельзя. «Похожие» решения считаются плагиатом и все задействованные студенты (в том числе те, у кого списали) не могут получить за него больше 0 баллов и понижают карму (подробнее о плагиате см. на странице курса). Если вы нашли решение какого-то из заданий в открытом источнике, необходимо прислать ссылку на этот источник (скорее всего вы будете не единственным, кто это нашел, поэтому чтобы исключить подозрение в плагиате, нам необходима ссылка на источник).\n",
    "\n"
   ]
  },
  {
   "cell_type": "markdown",
   "metadata": {},
   "source": []
  },
  {
   "cell_type": "markdown",
   "metadata": {},
   "source": [
    "\n",
    "Testing started at 18:41 ...\n",
    "Connected to pydev debugger (build 241.14494.240)\n",
    "Launching pytest## Знакомство с данными\n",
    "\n",
    "### Рекомендация организаций, которые получат высокий отзыв от пользователя, когда он гостит в чужом для себя городе\n",
    "\n",
    "Данные подготовлены по аналогии с конкурсом https://yandex.ru/cup/ml/.\n",
    "Выражаем благодарность Сураджу Сингху за помощь в подготовке данных.\n",
    "\n",
    "\n",
    "Легенда исходного соревнования:\n",
    "\n",
    "Иннокентий — москвич в пятом поколении. \n",
    "\n",
    "Блуждание между тремя тополями на Плющихе, ежемесячное посещение Мавзолея, кормление тапиров в Московском зоопарке — всё это в крови Иннокентия.\n",
    "\n",
    "Помимо этого, Иннокентий очень любит поесть. Как типичный среднестатистический москвич, Иннокентий посещает исключительно рестораны со средним чеком от 5000 рублей, любит устрицы и хорошие стейки зернового откорма, избегает кафе с шаурмой — боится, что его нечаянно накормят шавермой. Будучи добропорядочным горожанином, Иннокентий исправно оставляет на *Яндекс.Картах* отзывы на посещенные рестораны, живописно описывая свой гастрономический опыт.\n",
    "\n",
    "Однажды Иннокентий понимает, что за пределами МКАД лежит целый мир, дикий и неизведанный. Он решается на самое опасное и рискованное путешествие в своей жизни — посещение Санкт-Петербурга. Иннокентий выбрал поезд на *Яндекс.Расписаниях*, забронировал отель на *Яндекс.Путешествиях* и отправился в путь.\n",
    "\n",
    "Выйдя утром из вагона поезда «Красная Стрела», Иннокентий опасливо огляделся и решил хорошо подкрепиться. Дело за малым — подобрать хороший ресторан, удовлетворяющий его утонченным вкусам. Рекомендации друзей оказались бесполезны, ведь все они москвичи и плохо разбираются в петербургских гастрономических трендах. Давайте поможем Иннокентию найти вкусную еду.\n",
    "\n",
    "В этой задаче вам предстоит построить рекомендательную систему, которая предложит пользователям *Яндекс.Карт* соответствующие их вкусу кафе, бары и рестораны в неродном городе: москвичам — в Санкт-Петербурге, а петербуржцам — в Москве. \n",
    "\n",
    "В качестве данных используйте анонимизированную информацию о реальных отзывах и оценках, оставляемых пользователями Яндекс.Карт на заведения общепита Москвы и Санкт-Петербурга, и различную информацию о самих заведениях. \n",
    "\n",
    "В частности, каждый отзыв содержит множество аспектов (упомянутые в отзыве блюда, особенности и т. п.), извлеченных из отзыва с помощью NLP-алгоритма. Для заданного множества москвичей и петербуржцев нужно предсказать, какие заведения в неродном городе они посетят, оставив при этом положительный отзыв с оценкой 4 или 5.\n",
    "\n",
    "\n",
    "Архив с данными можно найти [здесь](https://disk.yandex.ru/d/9yMyAhVNw_tvLA).\n",
    "\n",
    "\n"
   ]
  },
  {
   "cell_type": "markdown",
   "metadata": {},
   "source": [
    "Обучающее множество собрано за X = 1277 дней, тестовое множество – за последующие Y = 107 дней.\n",
    "\n",
    "**reviews.csv**\n",
    "\n",
    "В этом файле дана информация об отзывах и оценках, оставленных некоторым множеством жителей Москвы и Санкт-Петерубрга в течение обучающего периода: \n",
    "\n",
    "\n",
    "```\n",
    "user_id,org_id,ts,rating,aspect_ids\n",
    "18a7276b,14e1b7bb,120,4,2 4 23\n",
    "...\n",
    "```\n",
    "\n",
    "* user_id: идентификатор пользователя\n",
    "* org_id: идентификатор организации\n",
    "* ts: время отзыва (в днях от начала обучающего периода)\n",
    "* rating: поставленная оценка\n",
    "* aspect_ids: набор упомянутых в тексте отзыва аспектов.\n",
    "\n",
    "**organisations.csv**\n",
    "\n",
    "Информация об организациях:\n",
    "\n",
    "```\n",
    "org_id,city,average_bill,rubric_id,avg_rating,feature_ids\n",
    "14e1b7bb,msk,2000,6,4.3,3 5 14 28\n",
    "0ed69bff,spb,1500,2,4.8,2 5 6\n",
    "...\n",
    "```\n",
    "\n",
    "* org_id: идентификатор организации\n",
    "* city_id: город организации\n",
    "* average_bill: средний чек в рублях (округленный с точностью до 500 рублей)\n",
    "* avg_rating: средний рейтинг (в том числе с учетом не перечисленных в файле reviews.csv отзывов и оценок)\n",
    "* rubric_id: рубрика опрганизации\n",
    "* feature_ids: набор известных особенностей данной организации.\n",
    "\n",
    "**users.csv**\n",
    "\n",
    "Информация о городе проживания пользователя:\n",
    "\n",
    "```\n",
    "user_id,city\n",
    "18a7276b,msk\n",
    "270cc9fee,spb\n",
    "4bf7ffc,msk\n",
    "...\n",
    "```\n",
    "\n",
    "**aspects.csv**\n",
    "\n",
    "Описание извлекаемых из отзывов аспектов. Множество аспектов извлекается из отзыва с помощью NLP-алгоритма и может быть неточным.\n",
    "\n",
    "```\n",
    "aspect_id,aspect_name\n",
    "1,Бургеры\n",
    "2,Кофе\n",
    "3,Интерьер\n",
    "4,Веранда\n",
    "5,Устрицы\n",
    "...\n",
    "```\n",
    "\n",
    "**features.csv**\n",
    "\n",
    "Описание особенностей организаций. Как правило, множество особенностей организации заполняется ее владельцем и может быть неточным.\n",
    "\n",
    "```\n",
    "feature_id,feature_name\n",
    "1,Wi-Fi\n",
    "2,Доставка\n",
    "3,Кофе с собой\n",
    "...\n",
    "```\n",
    "\n",
    "**rubrics.csv**\n",
    "\n",
    "Описание рубрик организаций:\n",
    "\n",
    "```\n",
    "rubric_id,rubric_name\n",
    "1,Ресторан\n",
    "2,Кафе\n",
    "3,Бар\n",
    "...\n",
    "```\n",
    "\n",
    "**test_users.csv**\n",
    "\n",
    "Множество пользователей, для которых необходимо сделать предсказание:\n",
    "\n",
    "```\n",
    "user_id\n",
    "270cc9fee\n",
    "4bf7ffc\n",
    "...\n",
    "```"
   ]
  },
  {
   "cell_type": "markdown",
   "metadata": {},
   "source": [
    "**Задание 1.** Знакомство с данными.\n",
    "\n",
    "В первую очередь нам понадобятся данные по __пользователям__ (в терминах recsys -- usesr), __организациям__ (в терминах recsys -- items) и сами __отзывы__ (в терминах recsys -- ratings или explicit feedback). \n",
    "\n",
    "На основании этих данных можно будет проводить базовый анализ методами колаборативной фильтрации.\n",
    "\n",
    "  * Опишите, насколько активно пользователи оставляют отзывы, насколько активно организации получают отзывы.\n",
    "  * Предложите стратегии фильтрации данных.\n",
    "  \n",
    "\n",
    "\n",
    "Во вторую очередь нас будут инетересовать атрибуты организаций: aspects, features, rubrics.\n",
    "Проанализируйте эти таблицы. Какие признаки для описания организаций и пользователей из них можно извлечь?\n"
   ]
  },
  {
   "metadata": {},
   "cell_type": "markdown",
   "source": ""
  },
  {
   "cell_type": "code",
   "metadata": {
    "ExecuteTime": {
     "end_time": "2024-05-20T23:27:58.669268Z",
     "start_time": "2024-05-20T23:27:43.263497Z"
    }
   },
   "source": [
    "from src.data_loading import load_data\n",
    "\n",
    "data = load_data('data')"
   ],
   "outputs": [],
   "execution_count": 8
  },
  {
   "cell_type": "code",
   "metadata": {
    "ExecuteTime": {
     "end_time": "2024-05-20T23:27:58.689435Z",
     "start_time": "2024-05-20T23:27:58.670851Z"
    }
   },
   "source": "data",
   "outputs": [
    {
     "data": {
      "text/plain": [
       "Data(reviews=         user_id  org_id  rating    ts aspects\n",
       "0         593294   47111     1.0   279     NaN\n",
       "1         358636   47111     1.0   391     NaN\n",
       "2         527308   47111     1.0   419     NaN\n",
       "3         412917   47111     1.0   641     NaN\n",
       "4         643047   47111     1.0   654     NaN\n",
       "...          ...     ...     ...   ...     ...\n",
       "4129691  1108965   19492     4.0   982      97\n",
       "4129692   953612   19492     5.0   448      97\n",
       "4129693   672451   44170     2.0  1127      97\n",
       "4129694  1334548   20269     5.0  1001      97\n",
       "4129695   987005    6951     5.0   657      97\n",
       "\n",
       "[4129696 rows x 5 columns], users=         user_id city\n",
       "0              0  msk\n",
       "1              1  msk\n",
       "2              2  msk\n",
       "3              3  msk\n",
       "4              4  msk\n",
       "...          ...  ...\n",
       "1393003  1393003  msk\n",
       "1393004  1393004  msk\n",
       "1393005  1393005  msk\n",
       "1393006  1393006  msk\n",
       "1393007  1393007  msk\n",
       "\n",
       "[1393008 rows x 2 columns], organisations=       org_id city  average_bill    rating   rubrics_id  \\\n",
       "0           0  msk        1500.0  4.270968  30776 30774   \n",
       "1           1  msk         500.0  4.375000        30771   \n",
       "2           2  msk         500.0  4.000000        31495   \n",
       "3           3  msk         500.0  4.538813  30776 30770   \n",
       "4           4  msk         500.0  4.409091        31495   \n",
       "...       ...  ...           ...       ...          ...   \n",
       "68334   68334  msk           NaN  3.812500        30774   \n",
       "68335   68335  msk           NaN  4.894231        30776   \n",
       "68336   68336  msk           NaN  4.156250        30774   \n",
       "68337   68337  spb           NaN       NaN  30771 30774   \n",
       "68338   68338  spb           NaN  4.633333        30776   \n",
       "\n",
       "                                             features_id  \n",
       "0      3501685156 3501779478 20422 3502045016 3502045...  \n",
       "1      1509 1082283206 273469383 10462 11617 35017794...  \n",
       "2      10462 11177 11617 11629 1416 1018 11704 11867 ...  \n",
       "3      3501618484 2020795524 11629 11617 1018 11704 2...  \n",
       "4      11617 10462 11177 1416 11867 3501744275 20282 ...  \n",
       "...                                                  ...  \n",
       "68334  1018 1415 10462 11629 11867 20422 20424 118949...  \n",
       "68335  11634 11629 3501481353 11177 3501773763 11867 ...  \n",
       "68336  20422 11867 246 3501754799 3501779478 12048 35...  \n",
       "68337  3491142672 3501481353 11867 20422 273469383 11...  \n",
       "68338  3501498189 3501509030 3501498184 12309 20422 3...  \n",
       "\n",
       "[68339 rows x 6 columns], features=      feature_id                           feature_name\n",
       "0              1  prepress_and_post_printing_processing\n",
       "1             40                               products\n",
       "2             54                        printing_method\n",
       "3             77                                   fuel\n",
       "4             79                                   shop\n",
       "...          ...                                    ...\n",
       "1001  3502053162          rating_of_moscow_schools_enum\n",
       "1002  3502060253                               michelin\n",
       "1003  3502063466                        card_big_button\n",
       "1004  3502071401      hotel_city_center_distance_meters\n",
       "1005  3502071402              hotel_sea_distance_meters\n",
       "\n",
       "[1006 rows x 2 columns], aspects=     aspect_id       aspect_name\n",
       "0            1           Бургеры\n",
       "1            2           Чистота\n",
       "2            3          Интерьер\n",
       "3            4               Еда\n",
       "4            5           Напитки\n",
       "..         ...               ...\n",
       "238        398  Детская Анимация\n",
       "239        399          На Крыше\n",
       "240        400        Ресторатор\n",
       "241        401         Шеф-Повар\n",
       "242        402   Испанская Кухня\n",
       "\n",
       "[243 rows x 2 columns], rubrics=     rubric_id                  rubric_name\n",
       "0        30519            Булочная, пекарня\n",
       "1        30770                     Бар, паб\n",
       "2        30771              Быстрое питание\n",
       "3        30774                         Кафе\n",
       "4        30775                     Пиццерия\n",
       "5        30776                     Ресторан\n",
       "6        30777                     Столовая\n",
       "7        31286                     Спортбар\n",
       "8        31350                 Кондитерская\n",
       "9        31375                     Суши-бар\n",
       "10       31401                   Кальян-бар\n",
       "11       31495                      Кофейня\n",
       "12  3108292683  Бар безалкогольных напитков\n",
       "13  3501514558                      Фудкорт\n",
       "14  3501750896                 Кофе с собой, test_users=       user_id\n",
       "0       696520\n",
       "1       696534\n",
       "2       317748\n",
       "3       696581\n",
       "4       696599\n",
       "...        ...\n",
       "22480   317592\n",
       "22481   317593\n",
       "22482   696430\n",
       "22483   696441\n",
       "22484   696451\n",
       "\n",
       "[22485 rows x 1 columns], _Data__user_reverse_mapping=array([12735004856856244189, 13776338520332531455, 15114084219042454101,\n",
       "       ...,  1494182774537864335,  5904563510088761051,\n",
       "        1141057817566657575], dtype=uint64), _Data__organisation_reverse_mapping=array([15903868628669802651, 16076540698036998306,  8129364761615040323,\n",
       "       ..., 12358902585434046825,  1712093598996183140,\n",
       "         125079240973229511], dtype=uint64))"
      ]
     },
     "execution_count": 9,
     "metadata": {},
     "output_type": "execute_result"
    }
   ],
   "execution_count": 9
  },
  {
   "cell_type": "markdown",
   "metadata": {},
   "source": [
    "**Задание 2.** Организация валидации.\n",
    "\n",
    "В оригинальном соревновании, обучающее множество было собрано за X = 1277 дней, тестовое множество – за последующие Y = 107 дней.\n",
    "\n",
    "используем валидацию со скользящим окном \n",
    "\n",
    "**N.B.** У нас не получится честно сэмулировать колонку aspect_ids, т.к. для этого потребуется доступ к сырым данным, котрых у нас не будет в данной лабораторной работе. Будет ли это являться большим ликом -- факультативный вопрос, который мы оставим за скобками лабораторной."
   ]
  },
  {
   "metadata": {
    "ExecuteTime": {
     "end_time": "2024-05-20T23:27:58.693179Z",
     "start_time": "2024-05-20T23:27:58.690770Z"
    }
   },
   "cell_type": "code",
   "source": [
    "from matplotlib import pyplot as plt\n",
    "from src.cross_val import DaysTimeSeriesSplit\n",
    "import numpy as np"
   ],
   "outputs": [],
   "execution_count": 10
  },
  {
   "cell_type": "code",
   "metadata": {
    "ExecuteTime": {
     "end_time": "2024-05-20T23:27:59.099011Z",
     "start_time": "2024-05-20T23:27:58.694377Z"
    }
   },
   "source": [
    "\n",
    "\n",
    "cv_splitter = DaysTimeSeriesSplit(n_splits=5, test_size_in_days=10, min_train_size_in_days=100)\n",
    "\n",
    "fig, ax = plt.subplots()\n",
    "for num_split, (train_indices, test_indices) in enumerate(cv_splitter.split(X=data.reviews[['user_id', 'org_id', 'ts']].sample(10000).sort_values(by='ts').reset_index(drop=True), y=None)):\n",
    "    indices = np.array([np.nan] * 10000)\n",
    "    indices[train_indices] = 1\n",
    "    indices[test_indices] = 0\n",
    "\n",
    "    # Visualize the results\n",
    "    ax.scatter(\n",
    "        range(len(indices)),\n",
    "        [num_split + 0.5] * len(indices),\n",
    "        c=indices,\n",
    "        marker=\"_\",\n",
    "        cmap=plt.cm.coolwarm,\n",
    "        vmin=-0.2,\n",
    "        vmax=1.2,\n",
    "    )\n",
    "    \n",
    "    yticklabels = list(range(5))\n",
    "    ax.set(\n",
    "        yticks=np.arange(5) + 0.5,\n",
    "        yticklabels=yticklabels,\n",
    "        xlabel=\"Sample index\",\n",
    "        ylabel=\"CV iteration\",\n",
    "    )\n",
    "    \n",
    "fig.show();"
   ],
   "outputs": [
    {
     "name": "stderr",
     "output_type": "stream",
     "text": [
      "/tmp/ipykernel_165876/3771338722.py:28: UserWarning: FigureCanvasAgg is non-interactive, and thus cannot be shown\n",
      "  fig.show();\n"
     ]
    },
    {
     "data": {
      "text/plain": [
       "<Figure size 640x480 with 1 Axes>"
      ],
      "image/png": "[encoded data removed]"
     },
     "metadata": {},
     "output_type": "display_data"
    }
   ],
   "execution_count": 11
  },
  {
   "cell_type": "markdown",
   "metadata": {},
   "source": [
    "**Задание 3.** Базовые решения.\n",
    "\n",
    "Сделаем базовые решения:\n",
    "  * Для каждого пользователя выдаём 20 случайных организаций\n",
    "  * Для каждого пользователя выдаём самые популярные организации в неродном городе"
   ]
  },
  {
   "cell_type": "markdown",
   "metadata": {},
   "source": [
    "**Задание 4.** Метрики качества.\n",
    "\n",
    "Напомним, что у нас бинарная релевантнотсь на основе оценки вычисляется как предикат **оценка больше, чем 3**.\n",
    "\n",
    "Реализуйте набор метрик качества (можете оборачивать внешние паекты):\n",
    "   * MNAP@20 (как в описании соревнования)\n",
    "   * HitRate ( = 1, если среди рекомендаций есть хотя бы одна релевантная и 0 иначе)\n",
    "   * MRR@20 ( обратная позиция первой релевантной рекомендации из списка рекомендаций длины K. )\n",
    "   * Coverage (доля item-ов, учитываемых в рекомендациях)\n",
    "   * Surprisal(см. ниже) \n",
    "\n",
    "\n",
    "### Surprisal\n",
    "Посмотирм, насколько наши рекомендации хороши с точки зрения новизны для пользователя, в качестве новизны будем рассматривать \"непопулярность\" айтемов в рекомендациях.\n",
    "\n",
    "Будем рассматривать собственную информацию item-а как меру его новизны.\n",
    "\n",
    "$$selfInformation(i) = -\\log_2 \\frac{|u_i|}{|N|}$$, \n",
    "где \n",
    "$i$ - объект, $|N|$ - число взаимодействий в обучающей выборке,  $|u_i|$ - число пользователей, взаимодействовавших с объектом в обучающей выборке.\n",
    "\n",
    "После подсчета собственной информации усредним значения собственной информации в рекомендациях пользователя.\n",
    "\n",
    "Чтобы получить значения от 0 до 1, разделим значение метрики для пользователя на максимально возможно значение метрики равное $log_2 N$.\n",
    "\n",
    "$$ Surprisal(u)@k = \\frac{1}{k \\cdot log_2 N} \\sum_{j = 1}^{k}selfInformation(i_{u,j}) $$\n",
    "\n",
    "где $i_{u,j}$ это j-й объект, который мы порекомендововали пользователю.\n",
    "\n",
    "Получившаяся метрика похожа на энтропию Шеннона:\n",
    "$$H = - K \\sum_{i\\in R}{p_i log p_i}$$\n",
    "\n",
    "\n",
    "Результа усредним по пользователям.\n",
    "\n",
    "### Что нужно сделать\n",
    "    \n",
    "  * Создайте функцию, которая генерирует словарь с метриками, по предоставленному решению.\n",
    "\n",
    "  * Оцените baseline-решения на валидации."
   ]
  },
  {
   "cell_type": "code",
   "metadata": {
    "ExecuteTime": {
     "end_time": "2024-05-20T23:28:50.693161Z",
     "start_time": "2024-05-20T23:28:15.640401Z"
    }
   },
   "source": [
    "from src.scoring import Scorer\n",
    "\n",
    "scorer = Scorer(k=20, cv_splitter=cv_splitter, data=data)\n",
    "\n",
    "from src.models.based import RandomRecommender\n",
    "from src.transforms import UserInfoJoiner, OrgInfoJoiner\n",
    "from sklearn.pipeline import make_pipeline\n",
    "\n",
    "random_recommender_pipeline = make_pipeline(\n",
    "    UserInfoJoiner(user_info=data.users),\n",
    "    OrgInfoJoiner(org_info=data.organisations),\n",
    "    RandomRecommender(organisations_and_cities=data.organisations[['org_id', 'city']], n_items=20, random_state=42)\n",
    ")\n",
    "\n",
    "scorer.score(random_recommender_pipeline, 'random recommender')\n",
    "\n",
    "# Do for Popular Recommender as well\n",
    "from src.models.statistics_based import PopularityRecommender\n",
    "\n",
    "from IPython.display import display\n",
    "display(scorer.leaderboard())"
   ],
   "outputs": [
    {
     "data": {
      "text/plain": [
       "                 name                                              model  \\\n",
       "0  random recommender  Pipeline(steps=[('userinfojoiner', UserInfoJoi...   \n",
       "\n",
       "   mnap_mean  mnap_std  hit_rate_mean  hit_rate_std  mrr_mean  mrr_std  \\\n",
       "0        NaN       NaN       0.001109      0.000919   0.00008  0.00006   \n",
       "\n",
       "   coverage_mean  coverage_std  surprisal_mean  surprisal_std  \n",
       "0        0.92565      0.108264        16.56959       1.569597  "
      ],
      "text/html": [
       "<div>\n",
       "<style scoped>\n",
       "    .dataframe tbody tr th:only-of-type {\n",
       "        vertical-align: middle;\n",
       "    }\n",
       "\n",
       "    .dataframe tbody tr th {\n",
       "        vertical-align: top;\n",
       "    }\n",
       "\n",
       "    .dataframe thead th {\n",
       "        text-align: right;\n",
       "    }\n",
       "</style>\n",
       "<table border=\"1\" class=\"dataframe\">\n",
       "  <thead>\n",
       "    <tr style=\"text-align: right;\">\n",
       "      <th></th>\n",
       "      <th>name</th>\n",
       "      <th>model</th>\n",
       "      <th>mnap_mean</th>\n",
       "      <th>mnap_std</th>\n",
       "      <th>hit_rate_mean</th>\n",
       "      <th>hit_rate_std</th>\n",
       "      <th>mrr_mean</th>\n",
       "      <th>mrr_std</th>\n",
       "      <th>coverage_mean</th>\n",
       "      <th>coverage_std</th>\n",
       "      <th>surprisal_mean</th>\n",
       "      <th>surprisal_std</th>\n",
       "    </tr>\n",
       "  </thead>\n",
       "  <tbody>\n",
       "    <tr>\n",
       "      <th>0</th>\n",
       "      <td>random recommender</td>\n",
       "      <td>Pipeline(steps=[('userinfojoiner', UserInfoJoi...</td>\n",
       "      <td>NaN</td>\n",
       "      <td>NaN</td>\n",
       "      <td>0.001109</td>\n",
       "      <td>0.000919</td>\n",
       "      <td>0.00008</td>\n",
       "      <td>0.00006</td>\n",
       "      <td>0.92565</td>\n",
       "      <td>0.108264</td>\n",
       "      <td>16.56959</td>\n",
       "      <td>1.569597</td>\n",
       "    </tr>\n",
       "  </tbody>\n",
       "</table>\n",
       "</div>"
      ]
     },
     "metadata": {},
     "output_type": "display_data"
    }
   ],
   "execution_count": 14
  },
  {
   "cell_type": "markdown",
   "metadata": {},
   "source": [
    "**Задание 5.** Метод Memory based. User-2-User or Item-2-Item\n",
    "\n",
    "Теперь рассмотрим [memory-based](https://en.wikipedia.org/wiki/Collaborative_filtering#Memory-based) методы рекоммендаций.\n",
    "Подход, лежащий в их основе, использует данные о рейтингах для вычисления сходства между пользователями (user-based) или объектами (item-based), на основе этих данных делаются предсказания рейтингов и, в дальнейшем, строятся рекоммендации. Эти методы просты в реализации и эффективны на ранних стадиях разработки рекомендательных систем.\n",
    "                                 \n",
    "              \n",
    "За последние годы было создано много библиотек для реализации алгоримтов построения рекомендаций.      \n",
    "  * https://github.com/benfred/implicit\n",
    "  * https://sberbank-ai-lab.github.io/RePlay/index.html\n",
    "  * https://github.com/apple/turicreate \n",
    "  * https://github.com/caserec/CaseRecommender\n",
    "\n",
    "попробуйте также их для нашей задачи, адаптируйте интерфейс под `Scorer`\n",
    "\n",
    "Если обучение идёт слишком долго подумайте про разреженные матрицы \n",
    "\n"
   ]
  },
  {
   "metadata": {
    "ExecuteTime": {
     "end_time": "2024-05-20T23:27:59.416839Z",
     "start_time": "2024-05-20T23:27:59.150398Z"
    }
   },
   "cell_type": "code",
   "source": [
    "from src.models.memory_based import UserBasedRecommender, ItemBasedRecommender\n",
    "\n",
    "scorer.score(...)"
   ],
   "outputs": [
    {
     "ename": "AttributeError",
     "evalue": "'ellipsis' object has no attribute 'fit'",
     "output_type": "error",
     "traceback": [
      "\u001B[0;31m---------------------------------------------------------------------------\u001B[0m",
      "\u001B[0;31mAttributeError\u001B[0m                            Traceback (most recent call last)",
      "Cell \u001B[0;32mIn[13], line 3\u001B[0m\n\u001B[1;32m      1\u001B[0m \u001B[38;5;28;01mfrom\u001B[39;00m \u001B[38;5;21;01msrc\u001B[39;00m\u001B[38;5;21;01m.\u001B[39;00m\u001B[38;5;21;01mmodels\u001B[39;00m\u001B[38;5;21;01m.\u001B[39;00m\u001B[38;5;21;01mmemory_based\u001B[39;00m \u001B[38;5;28;01mimport\u001B[39;00m UserBasedRecommender, ItemBasedRecommender\n\u001B[0;32m----> 3\u001B[0m \u001B[43mscorer\u001B[49m\u001B[38;5;241;43m.\u001B[39;49m\u001B[43mscore\u001B[49m\u001B[43m(\u001B[49m\u001B[38;5;241;43m.\u001B[39;49m\u001B[38;5;241;43m.\u001B[39;49m\u001B[38;5;241;43m.\u001B[39;49m\u001B[43m)\u001B[49m\n",
      "File \u001B[0;32m~/Documents/5_ITMO/deep-learning/deep-learning-practice/shad-hws/lab_8_recsys/src/scoring.py:130\u001B[0m, in \u001B[0;36mscore\u001B[0;34m(self, model, experiment_name)\u001B[0m\n\u001B[1;32m    126\u001B[0m list_compressed_target \u001B[38;5;241m=\u001B[39m x_test_with_cities\u001B[38;5;241m.\u001B[39mgroupby(\u001B[38;5;124m'\u001B[39m\u001B[38;5;124muser_id\u001B[39m\u001B[38;5;124m'\u001B[39m)\u001B[38;5;241m.\u001B[39mapply(\n\u001B[1;32m    127\u001B[0m     \u001B[38;5;28;01mlambda\u001B[39;00m s: np\u001B[38;5;241m.\u001B[39marray(s[\u001B[38;5;124m'\u001B[39m\u001B[38;5;124morg_id\u001B[39m\u001B[38;5;124m'\u001B[39m][(s[\u001B[38;5;124m'\u001B[39m\u001B[38;5;124mrating\u001B[39m\u001B[38;5;124m'\u001B[39m] \u001B[38;5;241m>\u001B[39m\u001B[38;5;241m=\u001B[39m \u001B[38;5;241m4.0\u001B[39m) \u001B[38;5;241m&\u001B[39m (s[\u001B[38;5;124m'\u001B[39m\u001B[38;5;124mcity_user\u001B[39m\u001B[38;5;124m'\u001B[39m] \u001B[38;5;241m!=\u001B[39m s[\u001B[38;5;124m'\u001B[39m\u001B[38;5;124mcity_org\u001B[39m\u001B[38;5;124m'\u001B[39m])]),\n\u001B[1;32m    128\u001B[0m     include_groups\u001B[38;5;241m=\u001B[39m\u001B[38;5;28;01mFalse\u001B[39;00m)\u001B[38;5;241m.\u001B[39mrename(\u001B[38;5;124m'\u001B[39m\u001B[38;5;124mtargets\u001B[39m\u001B[38;5;124m'\u001B[39m)\n\u001B[1;32m    129\u001B[0m joined \u001B[38;5;241m=\u001B[39m pd\u001B[38;5;241m.\u001B[39mmerge(predict, list_compressed_target, left_index\u001B[38;5;241m=\u001B[39m\u001B[38;5;28;01mTrue\u001B[39;00m, right_index\u001B[38;5;241m=\u001B[39m\u001B[38;5;28;01mTrue\u001B[39;00m)\n\u001B[0;32m--> 130\u001B[0m joined[\u001B[38;5;124m'\u001B[39m\u001B[38;5;124mrel\u001B[39m\u001B[38;5;124m'\u001B[39m] \u001B[38;5;241m=\u001B[39m joined\u001B[38;5;241m.\u001B[39mapply(rel_per_user, k\u001B[38;5;241m=\u001B[39m\u001B[38;5;28mself\u001B[39m\u001B[38;5;241m.\u001B[39mk, axis\u001B[38;5;241m=\u001B[39m\u001B[38;5;241m1\u001B[39m)\n\u001B[1;32m    131\u001B[0m joined[\u001B[38;5;124m'\u001B[39m\u001B[38;5;124mmnap\u001B[39m\u001B[38;5;124m'\u001B[39m] \u001B[38;5;241m=\u001B[39m joined\u001B[38;5;241m.\u001B[39mapply(mnap_at_k_per_user, k\u001B[38;5;241m=\u001B[39m\u001B[38;5;28mself\u001B[39m\u001B[38;5;241m.\u001B[39mk, axis\u001B[38;5;241m=\u001B[39m\u001B[38;5;241m1\u001B[39m)\n\u001B[1;32m    132\u001B[0m joined[\u001B[38;5;124m'\u001B[39m\u001B[38;5;124mhit_rate\u001B[39m\u001B[38;5;124m'\u001B[39m] \u001B[38;5;241m=\u001B[39m joined\u001B[38;5;241m.\u001B[39mapply(hit_rate_per_user, axis\u001B[38;5;241m=\u001B[39m\u001B[38;5;241m1\u001B[39m)\n",
      "\u001B[0;31mAttributeError\u001B[0m: 'ellipsis' object has no attribute 'fit'"
     ]
    }
   ],
   "execution_count": 13
  },
  {
   "cell_type": "markdown",
   "metadata": {},
   "source": [
    "## Методы Matrix factorization"
   ]
  },
  {
   "cell_type": "markdown",
   "metadata": {},
   "source": [
    "**Задание 6.**\n",
    "\n",
    "- Разложите матрицу рейтингов с помощью [разреженного SVD](http://scikit-learn.org/stable/modules/generated/sklearn.decomposition.TruncatedSVD.html) и, восстановив ее, получите предсказания рейтингов для всех пар пользователь-объект. В данном случае неизвестные рейтинги заполняются нулями, а затем восстанавливаются с помощью SVD (этот метод называется PureSVD).\n",
    "   * Получив векторные представления пользователей и объектов и сингулярные числа, мы можеи восстановив матрицу и в местах нулей получим \"предсказанные значения вероятностей\" для новых объектов.\n",
    "- Рассмотрите, как минимум, 5 различных значений ранга разложения. Оцените качество рекомендаций"
   ]
  },
  {
   "cell_type": "code",
   "metadata": {},
   "source": [
    "from src.models.matrix_factorization_based import SVDRecommender\n",
    "\n",
    "scorer.score(...)"
   ],
   "outputs": [],
   "execution_count": null
  },
  {
   "cell_type": "markdown",
   "metadata": {},
   "source": [
    "# ALS\n",
    "Довольно популярным базовым методом в рекомендательных системах является ALS.\n",
    "\n",
    "### Explicit ALS\n",
    "\n",
    "Релевантность:\n",
    "$$r_{ui} = q_i^T p_u$$\n",
    "\n",
    "Loss:\n",
    "$$\\min_{p*, q*} \\sum_{(u, i \\in \\mathcal{K})} (r_{ui} - q_i^T p_u)^2 + \\lambda(\\|{q_i}\\|^2 + \\|{p_i}\\|^2)$$\n",
    "\n",
    "### [Implicit ALS](http://yifanhu.net/PUB/cf.pdf)\n",
    "\n",
    "Релевантность:\n",
    "$$r_{ui} = q_i^T p_u$$\n",
    "\n",
    "Loss:\n",
    "$$\\min_{p*, q*} \\sum_{(u, i \\in \\mathcal{K})} c_{ui}(p_{ui} - q_i^T p_u)^2 + \\lambda(\\|{q_i}\\|^2 + \\|{p_i}\\|^2)$$\n",
    "Где $c_{ui}$ - значение в матрице implicit feedback, а $p_{ui}$ равно 1, если пользователь u взаимодействовал с item-ом i, и 0 иначе.\n",
    "\n",
    "### Усложнения ALS\n",
    "Обучив для каждого пользователя и объекта свой bias и добавив регуляризацию можно улучшить качество решения. Подробнее о различных матричных разложениях для задачи рекомендаций можно почитать [в статье на Хабре](https://habr.com/ru/post/486802/).\n",
    "\n",
    "В рейтинг объекта для пользователя, например, может быть представлен:\n",
    "$$r_{ui} = \\mu + b_i + b_u + q_i^T p_u$$\n",
    "\n",
    "А функция потерь будет выглядеть так:\n",
    "$$\\min_{b*, p*, q*} \\sum_{(u, i \\in \\mathcal{K})} (r_{ui} - \\mu - b_i - b_u - q_i^T p_u)^2 + \\lambda(\\|{q_i}\\|^2 + \\|{p_i}\\|^2 + b_i^2 + b_u^2)$$\n",
    "\n",
    "Матричная факторизация - хороший подход, который позволяет получить рекомендации для теплых пользователей, а также находить похожих пользователей и объекты, посчитав расстояния между векторами. Обучив модель и получив вектора можно перейти от задачи рекомендаций к задаче поиска ближайших соседей и использовать ANN-методы."
   ]
  },
  {
   "cell_type": "markdown",
   "metadata": {},
   "source": [
    "**Задание 7.**\n",
    "Примените ALS.\n",
    "\n",
    "попробуйте также реализацией из бибилотеки https://github.com/benfred/implicit, \n",
    "адаптируйте интерфейс под `Scorer`\n",
    "\n",
    "Попробуйте использовать как все оценки, так и только высокие. Есть ли разница?"
   ]
  },
  {
   "cell_type": "code",
   "metadata": {},
   "source": [
    "from src.models.matrix_factorization_based import ALSRecommender\n",
    "\n",
    "scorer.score(...)"
   ],
   "outputs": [],
   "execution_count": null
  },
  {
   "cell_type": "markdown",
   "metadata": {},
   "source": [
    "**Задание 8.**\n",
    "\n",
    "На [семинаре](https://github.com/monkey0head/recsys_sem) Вам было расказано про бибилиотеку LightFM.\n",
    "Примените ее для нашей задачи. Используя фичи и не используя фичи, сравните результат."
   ]
  },
  {
   "cell_type": "code",
   "metadata": {},
   "source": [],
   "outputs": [],
   "execution_count": null
  },
  {
   "cell_type": "markdown",
   "metadata": {},
   "source": [
    "**Задание 9.**\n",
    "\n",
    "   Посмотрим на все прошлые методы как на модели, которые генерируют нам кандидатов для ответа рекомендательной системы. \n",
    "   \n",
    "   Как нам выбрать те 20 организаций наилучшим образом? \n",
    "   \n",
    "   Давайте подключим машинное обучение. Сформуллируем задачу ранжирования: запросом будет пользователь. Документами будут организации. Наивным призаковым описанием будет, например, факт рекомендации данной органицзаии или скор/ранг от моделей SVD, ALS, LightFM.\n",
    "   Примените catboost/xgboost/lightgbm для создания переранжирования рекомендаций. То есть сделаем двухуровневую модель. Выясните, наиболее важные признаки моделей перевого уровня."
   ]
  },
  {
   "cell_type": "code",
   "metadata": {},
   "source": [],
   "outputs": [],
   "execution_count": null
  }
 ],
 "metadata": {
  "kernelspec": {
   "display_name": "Python 3",
   "language": "python",
   "name": "python3"
  },
  "language_info": {
   "codemirror_mode": {
    "name": "ipython",
    "version": 3
   },
   "file_extension": ".py",
   "mimetype": "text/x-python",
   "name": "python",
   "nbconvert_exporter": "python",
   "pygments_lexer": "ipython3",
   "version": "3.8.10"
  },
  "toc": {
   "base_numbering": 1,
   "nav_menu": {},
   "number_sections": true,
   "sideBar": true,
   "skip_h1_title": false,
   "title_cell": "Table of Contents",
   "title_sidebar": "Contents",
   "toc_cell": false,
   "toc_position": {},
   "toc_section_display": true,
   "toc_window_display": false
  }
 },
 "nbformat": 4,
 "nbformat_minor": 2
}
