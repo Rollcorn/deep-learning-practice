{
 "cells": [
  {
   "cell_type": "markdown",
   "metadata": {},
   "source": [
    "# Лабораторная работа 5. Временные ряды. \n",
    "\n",
    "\n",
    "Результат лабораторной работы &mdash; отчет. Мы предпочитаем принимать отчеты в формате ноутбуков IPython (ipynb-файл). Постарайтесь сделать ваш отчет интересным рассказом, последовательно отвечающим на вопросы из заданий. Помимо ответов на вопросы, в отчете так же должен быть код, однако чем меньше кода, тем лучше всем: нам &mdash; меньше проверять, вам &mdash; проще найти ошибку или дополнить эксперимент. При проверке оценивается четкость ответов на вопросы, аккуратность отчета и кода.\n",
    "\n",
    "\n",
    "### Оценивание и штрафы\n",
    "Каждая из задач имеет определенную «стоимость» (указана в скобках около задачи). Максимально допустимая оценка за работу &mdash; 10 баллов. Сдавать задание после указанного в lk срока сдачи нельзя. «Похожие» решения считаются плагиатом и все задействованные студенты (в том числе те, у кого списали) не могут получить за него больше 0 баллов и понижают карму (подробнее о плагиате см. на странице курса). Если вы нашли решение какого-то из заданий в открытом источнике, необходимо прислать ссылку на этот источник (скорее всего вы будете не единственным, кто это нашел, поэтому чтобы исключить подозрение в плагиате, нам необходима ссылка на источник).\n",
    "\n"
   ]
  },
  {
   "cell_type": "code",
   "metadata": {
    "ExecuteTime": {
     "end_time": "2024-04-21T17:17:44.381540Z",
     "start_time": "2024-04-21T17:17:43.914373Z"
    }
   },
   "source": [
    "import os\n",
    "import numpy as np\n",
    "import pandas as pd\n",
    "from zipfile import ZipFile\n",
    "\n",
    "import matplotlib.pyplot as plt\n",
    "import seaborn as sns\n",
    "sns.set(palette='Set2')\n",
    "\n",
    "from pandas.plotting import register_matplotlib_converters\n",
    "register_matplotlib_converters()\n",
    "\n",
    "import statsmodels.api as sm\n",
    "import pmdarima as pm\n",
    "from tbats import TBATS"
   ],
   "outputs": [],
   "execution_count": 1
  },
  {
   "cell_type": "markdown",
   "metadata": {},
   "source": [
    "## 0. Разминка"
   ]
  },
  {
   "cell_type": "markdown",
   "metadata": {},
   "source": [
    "#### Задача 1. [2 балла]\n",
    "\n",
    "Даны временные ряды\n",
    "* $y_t = 2 + y_{t-1} - 0.5 y_{t-2} + 0.5 y_{t-3} + \\varepsilon_t - 2\\varepsilon_{t-1} + \\varepsilon_{t-2}$,\n",
    "* $y_t = -1 - y_{t-2} - 0.25 y_{t-4} + \\varepsilon_t - \\varepsilon_{t-3}$,\n",
    "\n",
    "где $\\varepsilon_t$ &mdash; гауссовский белый шум со средним 0 и дисперсией $\\sigma^2$, который так же не зависит от $y_{t-i}, i \\geqslant 1$. \n",
    "\n",
    "**1.** Являются ли ряды стационарными? \n",
    "\n",
    "**2.** Определите тип процесса в терминах ARIMA($p, d, q$).\n",
    "\n",
    "**3.** Если временной ряд стационарен, вычислите математическое ожидание и дисперсию $y_t$."
   ]
  },
  {
   "metadata": {},
   "cell_type": "markdown",
   "source": ""
  },
  {
   "cell_type": "markdown",
   "metadata": {},
   "source": [
    "## 1. Данные"
   ]
  },
  {
   "cell_type": "markdown",
   "metadata": {},
   "source": [
    "В качестве данных рассмотрим известный набор данных с параметрами погоды в одной точке земной поверхности, доступный нам с частотой дискретизации в 10 минут. Описание данных доступно по <a href=\"https://keras.io/examples/timeseries/timeseries_weather_forecasting/\">ссылке</a>.\n",
    "\n",
    "Скачаем данные"
   ]
  },
  {
   "cell_type": "code",
   "metadata": {
    "ExecuteTime": {
     "end_time": "2024-04-21T17:19:49.773082Z",
     "start_time": "2024-04-21T17:19:47.440069Z"
    }
   },
   "source": [
    "uri = \"https://storage.googleapis.com/tensorflow/tf-keras-datasets/jena_climate_2009_2016.csv.zip\"\n",
    "!wget {uri}"
   ],
   "outputs": [
    {
     "name": "stdout",
     "output_type": "stream",
     "text": [
      "--2024-04-21 20:19:47--  https://storage.googleapis.com/tensorflow/tf-keras-datasets/jena_climate_2009_2016.csv.zip\r\n",
      "Resolving storage.googleapis.com (storage.googleapis.com)... 64.233.162.207, 64.233.163.207, 173.194.220.207, ...\r\n",
      "Connecting to storage.googleapis.com (storage.googleapis.com)|64.233.162.207|:443... connected.\r\n",
      "HTTP request sent, awaiting response... 200 OK\r\n",
      "Length: 13568290 (13M) [application/zip]\r\n",
      "Saving to: ‘jena_climate_2009_2016.csv.zip’\r\n",
      "\r\n",
      "jena_climate_2009_2 100%[===================>]  12.94M  6.54MB/s    in 2.0s    \r\n",
      "\r\n",
      "2024-04-21 20:19:49 (6.54 MB/s) - ‘jena_climate_2009_2016.csv.zip’ saved [13568290/13568290]\r\n",
      "\r\n"
     ]
    }
   ],
   "execution_count": 2
  },
  {
   "cell_type": "code",
   "metadata": {
    "ExecuteTime": {
     "end_time": "2024-04-21T17:20:31.044423Z",
     "start_time": "2024-04-21T17:20:30.700615Z"
    }
   },
   "source": [
    "zip_path = \"jena_climate_2009_2016.csv.zip\"\n",
    "assert os.path.exists(zip_path), f\"Download {uri}\"\n",
    "\n",
    "zip_file = ZipFile(zip_path)\n",
    "zip_file.extractall()\n",
    "csv_path = \"jena_climate_2009_2016.csv\""
   ],
   "outputs": [],
   "execution_count": 3
  },
  {
   "cell_type": "markdown",
   "metadata": {},
   "source": [
    "Немного преобразуем данные, рассмотрев максимальное значение каждой величины за сутки."
   ]
  },
  {
   "cell_type": "code",
   "metadata": {
    "ExecuteTime": {
     "end_time": "2024-04-21T17:20:58.506427Z",
     "start_time": "2024-04-21T17:20:56.872025Z"
    }
   },
   "source": [
    "weather_df = pd.read_csv(csv_path)\n",
    "weather_df[\"Date\"] = pd.to_datetime(weather_df[\"Date Time\"], format=\"%d.%m.%Y %H:%M:%S\")\n",
    "\n",
    "weather_df_daily = weather_df.set_index(\"Date\").resample('D').max().reset_index()\n",
    "del weather_df_daily[\"Date Time\"]\n",
    "weather_df_daily = weather_df_daily.set_index('Date')\n",
    "weather_df_daily.head()"
   ],
   "outputs": [
    {
     "data": {
      "text/plain": [
       "            p (mbar)  T (degC)  Tpot (K)  Tdew (degC)  rh (%)  VPmax (mbar)  \\\n",
       "Date                                                                          \n",
       "2009-01-01   1000.87     -4.17    269.00        -5.36    94.8          4.48   \n",
       "2009-01-02   1002.65     -2.12    271.12        -3.88    96.3          5.22   \n",
       "2009-01-03   1002.49     -0.82    272.59        -6.09    93.9          5.75   \n",
       "2009-01-04    992.93     -0.63    273.55        -2.26    93.9          5.83   \n",
       "2009-01-05    997.54     -1.44    272.89        -2.45    93.2          5.49   \n",
       "\n",
       "            VPact (mbar)  VPdef (mbar)  sh (g/kg)  H2OC (mmol/mol)  \\\n",
       "Date                                                                 \n",
       "2009-01-01          4.09          0.49       2.55             4.09   \n",
       "2009-01-02          4.58          0.70       2.86             4.59   \n",
       "2009-01-03          3.87          2.86       2.41             3.86   \n",
       "2009-01-04          5.17          1.53       3.27             5.25   \n",
       "2009-01-05          5.10          0.83       3.23             5.18   \n",
       "\n",
       "            rho (g/m**3)  wv (m/s)  max. wv (m/s)  wd (deg)  \n",
       "Date                                                         \n",
       "2009-01-01       1318.81      2.51           3.63     357.9  \n",
       "2009-01-02       1298.51      3.87           6.13     358.8  \n",
       "2009-01-03       1323.70      3.64           4.88     357.2  \n",
       "2009-01-04       1274.06      3.95           7.13     257.0  \n",
       "2009-01-05       1332.38      7.81          10.88     358.9  "
      ],
      "text/html": [
       "<div>\n",
       "<style scoped>\n",
       "    .dataframe tbody tr th:only-of-type {\n",
       "        vertical-align: middle;\n",
       "    }\n",
       "\n",
       "    .dataframe tbody tr th {\n",
       "        vertical-align: top;\n",
       "    }\n",
       "\n",
       "    .dataframe thead th {\n",
       "        text-align: right;\n",
       "    }\n",
       "</style>\n",
       "<table border=\"1\" class=\"dataframe\">\n",
       "  <thead>\n",
       "    <tr style=\"text-align: right;\">\n",
       "      <th></th>\n",
       "      <th>p (mbar)</th>\n",
       "      <th>T (degC)</th>\n",
       "      <th>Tpot (K)</th>\n",
       "      <th>Tdew (degC)</th>\n",
       "      <th>rh (%)</th>\n",
       "      <th>VPmax (mbar)</th>\n",
       "      <th>VPact (mbar)</th>\n",
       "      <th>VPdef (mbar)</th>\n",
       "      <th>sh (g/kg)</th>\n",
       "      <th>H2OC (mmol/mol)</th>\n",
       "      <th>rho (g/m**3)</th>\n",
       "      <th>wv (m/s)</th>\n",
       "      <th>max. wv (m/s)</th>\n",
       "      <th>wd (deg)</th>\n",
       "    </tr>\n",
       "    <tr>\n",
       "      <th>Date</th>\n",
       "      <th></th>\n",
       "      <th></th>\n",
       "      <th></th>\n",
       "      <th></th>\n",
       "      <th></th>\n",
       "      <th></th>\n",
       "      <th></th>\n",
       "      <th></th>\n",
       "      <th></th>\n",
       "      <th></th>\n",
       "      <th></th>\n",
       "      <th></th>\n",
       "      <th></th>\n",
       "      <th></th>\n",
       "    </tr>\n",
       "  </thead>\n",
       "  <tbody>\n",
       "    <tr>\n",
       "      <th>2009-01-01</th>\n",
       "      <td>1000.87</td>\n",
       "      <td>-4.17</td>\n",
       "      <td>269.00</td>\n",
       "      <td>-5.36</td>\n",
       "      <td>94.8</td>\n",
       "      <td>4.48</td>\n",
       "      <td>4.09</td>\n",
       "      <td>0.49</td>\n",
       "      <td>2.55</td>\n",
       "      <td>4.09</td>\n",
       "      <td>1318.81</td>\n",
       "      <td>2.51</td>\n",
       "      <td>3.63</td>\n",
       "      <td>357.9</td>\n",
       "    </tr>\n",
       "    <tr>\n",
       "      <th>2009-01-02</th>\n",
       "      <td>1002.65</td>\n",
       "      <td>-2.12</td>\n",
       "      <td>271.12</td>\n",
       "      <td>-3.88</td>\n",
       "      <td>96.3</td>\n",
       "      <td>5.22</td>\n",
       "      <td>4.58</td>\n",
       "      <td>0.70</td>\n",
       "      <td>2.86</td>\n",
       "      <td>4.59</td>\n",
       "      <td>1298.51</td>\n",
       "      <td>3.87</td>\n",
       "      <td>6.13</td>\n",
       "      <td>358.8</td>\n",
       "    </tr>\n",
       "    <tr>\n",
       "      <th>2009-01-03</th>\n",
       "      <td>1002.49</td>\n",
       "      <td>-0.82</td>\n",
       "      <td>272.59</td>\n",
       "      <td>-6.09</td>\n",
       "      <td>93.9</td>\n",
       "      <td>5.75</td>\n",
       "      <td>3.87</td>\n",
       "      <td>2.86</td>\n",
       "      <td>2.41</td>\n",
       "      <td>3.86</td>\n",
       "      <td>1323.70</td>\n",
       "      <td>3.64</td>\n",
       "      <td>4.88</td>\n",
       "      <td>357.2</td>\n",
       "    </tr>\n",
       "    <tr>\n",
       "      <th>2009-01-04</th>\n",
       "      <td>992.93</td>\n",
       "      <td>-0.63</td>\n",
       "      <td>273.55</td>\n",
       "      <td>-2.26</td>\n",
       "      <td>93.9</td>\n",
       "      <td>5.83</td>\n",
       "      <td>5.17</td>\n",
       "      <td>1.53</td>\n",
       "      <td>3.27</td>\n",
       "      <td>5.25</td>\n",
       "      <td>1274.06</td>\n",
       "      <td>3.95</td>\n",
       "      <td>7.13</td>\n",
       "      <td>257.0</td>\n",
       "    </tr>\n",
       "    <tr>\n",
       "      <th>2009-01-05</th>\n",
       "      <td>997.54</td>\n",
       "      <td>-1.44</td>\n",
       "      <td>272.89</td>\n",
       "      <td>-2.45</td>\n",
       "      <td>93.2</td>\n",
       "      <td>5.49</td>\n",
       "      <td>5.10</td>\n",
       "      <td>0.83</td>\n",
       "      <td>3.23</td>\n",
       "      <td>5.18</td>\n",
       "      <td>1332.38</td>\n",
       "      <td>7.81</td>\n",
       "      <td>10.88</td>\n",
       "      <td>358.9</td>\n",
       "    </tr>\n",
       "  </tbody>\n",
       "</table>\n",
       "</div>"
      ]
     },
     "execution_count": 4,
     "metadata": {},
     "output_type": "execute_result"
    }
   ],
   "execution_count": 4
  },
  {
   "cell_type": "markdown",
   "metadata": {},
   "source": [
    "Теперь в каждой строчке датасета мы имеем максимальные значения за сутки. Например, в строчке `2012-12-22` в колонке `T (degC)` записана максимальная температура по Цельсию за данные сутки.\n",
    "\n",
    "**Глобальная цель** в данном домашнем задании &mdash; прогнозирование максимальной температуры на день вперед. Например, 22 декабря нужно построить прогноз значения `T (degC)` за 23 декабря, используя при этом любые данные до 22 декабря включительно, но не используя никакие данные начиная с 23 декабря.\n",
    "\n",
    "*Замечание*. Обратите внимание, что значения от 22 декабря доступны только по окончанию этого дня, плюс накладные расходы на поставку данных. Но для упрощения ситуации, допустим, что данные приходят мгновенно, а прогноз от нас ждут в начале суток 23 декабря, так что мы успеем подучить данные от 22 декабря, преобразовать их в признаки и применить нашу модель."
   ]
  },
  {
   "cell_type": "markdown",
   "metadata": {},
   "source": [
    "#### Задача 2. [0.25 балла]\n",
    "\n",
    "Выделите таргет в отдельную переменную `pd.Series`. Значением таргета от 22 декабря должна быть максимальная температура за сутки 23 декабря, то есть то, что мы хотим прогнозировать."
   ]
  },
  {
   "cell_type": "code",
   "execution_count": null,
   "metadata": {},
   "outputs": [],
   "source": []
  },
  {
   "cell_type": "markdown",
   "metadata": {},
   "source": [
    "Разделите данные на обучающие и тестовые. В качестве тестового отрезка времени возьмите данные за последний год. Обратите внимание, что за 2016-10-26 и 2016-10-27 данных нет."
   ]
  },
  {
   "cell_type": "code",
   "execution_count": null,
   "metadata": {},
   "outputs": [],
   "source": []
  },
  {
   "cell_type": "markdown",
   "metadata": {},
   "source": [
    "## 2. Простая аналитика"
   ]
  },
  {
   "cell_type": "markdown",
   "metadata": {},
   "source": [
    "#### Задача 3. [1 балл]\n",
    "\n",
    "Произведите визуализацию всех временных рядов."
   ]
  },
  {
   "cell_type": "code",
   "execution_count": null,
   "metadata": {},
   "outputs": [],
   "source": []
  },
  {
   "cell_type": "markdown",
   "metadata": {},
   "source": [
    "Имеются ли в данных выбросы? Если да, отфильтруйте данные. Не перестарайтесь, фильтруйте только более менее очевидные выбросы.\n",
    "\n",
    "Подумайте над тем, какие значения ставить вместо выбросов. Учтите, что не все модели могут обрабатывать пропуски."
   ]
  },
  {
   "cell_type": "code",
   "execution_count": null,
   "metadata": {},
   "outputs": [],
   "source": []
  },
  {
   "cell_type": "markdown",
   "metadata": {},
   "source": [
    "#### Задача 4. [1 балл]\n",
    "\n",
    "Посчитайте матрицу корреляций по всем временным рядам без сдвигов (т.е. $corr(x_t, y_t)$) и визуализируйте ее"
   ]
  },
  {
   "cell_type": "code",
   "execution_count": null,
   "metadata": {},
   "outputs": [],
   "source": []
  },
  {
   "cell_type": "markdown",
   "metadata": {},
   "source": [
    "Постройте коррелограмму временного ряда температуры"
   ]
  },
  {
   "cell_type": "code",
   "execution_count": null,
   "metadata": {},
   "outputs": [],
   "source": []
  },
  {
   "cell_type": "markdown",
   "metadata": {},
   "source": [
    "По временному ряду температуры выполните STL-разложение и визуализируйте полученные компоненты"
   ]
  },
  {
   "cell_type": "code",
   "execution_count": null,
   "metadata": {},
   "outputs": [],
   "source": []
  },
  {
   "cell_type": "markdown",
   "metadata": {},
   "source": [
    "**Выводы:**"
   ]
  },
  {
   "cell_type": "markdown",
   "metadata": {},
   "source": [
    "## 3. Качество"
   ]
  },
  {
   "cell_type": "markdown",
   "metadata": {},
   "source": [
    "#### Задача 5. [0.5 балла]\n",
    "\n",
    "Напишите функции вычисления качества решения в задачи прогнозирования.\n",
    "Качество решения будем описывать при помощи нескольких метрик качства:\n",
    "  * mean_squared_error\n",
    "  * mean_absolute_error\n",
    "  * mean_absolute_percentage_error\n",
    "  * median_absolute_error"
   ]
  },
  {
   "cell_type": "code",
   "execution_count": null,
   "metadata": {},
   "outputs": [],
   "source": []
  },
  {
   "cell_type": "markdown",
   "metadata": {},
   "source": [
    "По всем данным посчитайте метрики качества baseline-решения &mdash; прогноз константой (т.е. прогноз последним доступным значением самой прогнозируемой величины), для горизонтов прогнозирования 1, 2, 3."
   ]
  },
  {
   "cell_type": "code",
   "execution_count": null,
   "metadata": {},
   "outputs": [],
   "source": []
  },
  {
   "cell_type": "markdown",
   "metadata": {},
   "source": [
    "Посчитайте эти же метрики по скользящим окнам из 4 и 8 недель. Иначе говоря, \n",
    "* сначала считаете качество по окну $[t+1, t+\\Delta t]$, используя в качестве прогноза $y_t$,\n",
    "* затем по окну $[t+2, t+\\Delta t+1]$, используя в качестве прогноза $y_{t+1}$,\n",
    "* и так далее.\n",
    "\n",
    "Постройте графики изменения качества прогноза со временем."
   ]
  },
  {
   "cell_type": "code",
   "execution_count": null,
   "metadata": {},
   "outputs": [],
   "source": []
  },
  {
   "cell_type": "markdown",
   "metadata": {},
   "source": [
    "**Выводы:**"
   ]
  },
  {
   "cell_type": "markdown",
   "metadata": {},
   "source": [
    "#### Задача 6. [0.5 балла]"
   ]
  },
  {
   "cell_type": "markdown",
   "metadata": {},
   "source": [
    "Скользящая валидация с фиксированным размером обучающего периода (*см. в лекциях вариант 1*) реализована в <a href=\"https://scikit-learn.org/stable/modules/generated/sklearn.model_selection.TimeSeriesSplit.html\">sklearn.model_selection.TimeSeriesSplit</a>:"
   ]
  },
  {
   "cell_type": "code",
   "execution_count": null,
   "metadata": {},
   "outputs": [],
   "source": [
    "from sklearn.model_selection import TimeSeriesSplit\n",
    "ts_cv_1 = TimeSeriesSplit(n_splits=5, max_train_size=1000, test_size=8*7, gap=70)"
   ]
  },
  {
   "cell_type": "markdown",
   "metadata": {},
   "source": [
    "Если вы будете валидировать свои модели по данной схеме, то вы сможете получить наилучшую модель, но не сможете получить несмещённую оценку её качества.\n",
    "Это важно когда заказчик хочет не только самую лучшую модель по качеству, но и оценку качества этой модели на исторических данных.\n",
    "\n",
    "Для этого случая имеется альтернативный nested-способ валидации, реализацию которого можно найти по <a href=\"https://github.com/roelbertens/time-series-nested-cv\">ссылке</a>."
   ]
  },
  {
   "cell_type": "markdown",
   "metadata": {},
   "source": [
    "Реализуйте nested кросс-валидацию."
   ]
  },
  {
   "cell_type": "code",
   "execution_count": null,
   "metadata": {},
   "outputs": [],
   "source": []
  },
  {
   "cell_type": "markdown",
   "metadata": {},
   "source": [
    "## 4. Сведение к задаче регрессии"
   ]
  },
  {
   "cell_type": "markdown",
   "metadata": {},
   "source": [
    "Для получения признакового описания для конкретного момента времени обычно применяют различные оконные функции к таблице данных, что позволяет сэкономить память и вычисления.\n",
    "Но нужно помнить, что нельзя допустить просачивание информации из будущего, т.к. такие признаки вы не сможете вычислить в продакшне.\n",
    "\n",
    "\n"
   ]
  },
  {
   "cell_type": "markdown",
   "metadata": {},
   "source": [
    "#### Задача 7. [0.5 балла]\n",
    "\n",
    "Вычислите простые признаки вида описательных статистик (сумма, максимум, минимум, стандартное отклонение) по нескольким размерам окон. Признаки можно вычислять не только по температуре, но и по сопутствующим временным рядам."
   ]
  },
  {
   "cell_type": "code",
   "execution_count": null,
   "metadata": {},
   "outputs": [],
   "source": []
  },
  {
   "cell_type": "markdown",
   "metadata": {},
   "source": [
    "#### Задача 8. [0.5 балла]\n",
    "\n",
    "Обучите градиентый бустинг и обычный многослойный перцептрон с использованием написанного скользящего контроля. Посчитайте качество."
   ]
  },
  {
   "cell_type": "code",
   "execution_count": null,
   "metadata": {},
   "outputs": [],
   "source": []
  },
  {
   "cell_type": "markdown",
   "metadata": {},
   "source": [
    "Постройте визуализируйте полученные прогнозы на графике, сравнив их с истинными значениями ряда. Отдельно постройте также график тестового интервала с целью увеличения масштаба графика."
   ]
  },
  {
   "cell_type": "code",
   "execution_count": null,
   "metadata": {},
   "outputs": [],
   "source": []
  },
  {
   "cell_type": "markdown",
   "metadata": {},
   "source": [
    "#### Задача 9. [1 балл]\n",
    "\n",
    "Генерировать признаки на этапе знакомства с данными &mdash; не очень интересное занятие.\n",
    "В отрасли предпринято несколько попыток автоматизировать этот этап.\n",
    "\n",
    "С помощью библиотеки <a href=\"https://tsfresh.com/\">tsfresh</a> можно довольно быстро сгенерировать большое количество признаков на основе сырых данных временных рядов. Например, по скользящему окну с помощью можно вычислить статистики вида минимум, максимум, среднее, количество пиков и т.д.\n",
    "\n",
    "Ознакомьтесь с данной библиотекой и сгенерируйте признаковое описание. Обратите внимание на функции\n",
    "* `roll_time_series`\n",
    "* `extract_features`"
   ]
  },
  {
   "cell_type": "code",
   "execution_count": null,
   "metadata": {},
   "outputs": [],
   "source": []
  },
  {
   "cell_type": "markdown",
   "metadata": {},
   "source": [
    "Сколько признаков вы получили? Как побороться с большим числом признаков?"
   ]
  },
  {
   "cell_type": "code",
   "execution_count": null,
   "metadata": {},
   "outputs": [],
   "source": []
  },
  {
   "cell_type": "markdown",
   "metadata": {},
   "source": [
    "Обучите модель, посчитайте ее качество и постройте график прогноза."
   ]
  },
  {
   "cell_type": "code",
   "execution_count": null,
   "metadata": {},
   "outputs": [],
   "source": []
  },
  {
   "cell_type": "markdown",
   "metadata": {},
   "source": [
    "**Выводы:**"
   ]
  },
  {
   "cell_type": "markdown",
   "metadata": {},
   "source": [
    "## 5. ARIMA-подобные модели"
   ]
  },
  {
   "cell_type": "markdown",
   "metadata": {},
   "source": [
    "#### Задача 10. [1.5 балла]\n",
    "\n",
    "Обучите модель ARIMA, \n",
    "* используя сопутствующие временные ряды в качестве экзогенных факторов,\n",
    "* используя знания о сезонности,\n",
    "* подобрав оптимальные гиперпараметры.\n",
    "\n",
    "*Замечания.*\n",
    "* Используйте `pmdarima.auto_arima`, которая автоматически подберет гиперпараметры, *см. семинар*.\n",
    "* Обучение может быть *слишком* вычислительно затратным. Начинайте тестировать код на очень маленьких данных, затем постепенно увеличивайте размер данных.\n",
    "* Обучение встроенной сезонности может не получиться. В таком случае можно попробовать передать значения за предыдущие сезоны как экзогенные факторы, или же моделировать сезонность рядами Фурье. "
   ]
  },
  {
   "cell_type": "code",
   "execution_count": null,
   "metadata": {},
   "outputs": [],
   "source": []
  },
  {
   "cell_type": "markdown",
   "metadata": {},
   "source": [
    "Обучите модель, посчитайте ее качество и постройте график прогноза *вместе с предсказательным интервалом*."
   ]
  },
  {
   "cell_type": "code",
   "execution_count": null,
   "metadata": {},
   "outputs": [],
   "source": []
  },
  {
   "cell_type": "markdown",
   "metadata": {},
   "source": [
    "Напечатайте саммари модели (`summary()`). Что и как вы можете проинтерпретировать?"
   ]
  },
  {
   "cell_type": "code",
   "execution_count": null,
   "metadata": {},
   "outputs": [],
   "source": []
  },
  {
   "cell_type": "markdown",
   "metadata": {},
   "source": [
    "#### Задача 11. [1 балл]\n",
    "\n",
    "Обучите модель TBATS, используя знания о сезонности. Выполните те же операции, что и для ARIMA."
   ]
  },
  {
   "cell_type": "code",
   "execution_count": null,
   "metadata": {},
   "outputs": [],
   "source": []
  },
  {
   "cell_type": "markdown",
   "metadata": {},
   "source": [
    "**Выводы:**"
   ]
  },
  {
   "cell_type": "markdown",
   "metadata": {},
   "source": [
    "## 6. Итоговое сравнение"
   ]
  },
  {
   "cell_type": "markdown",
   "metadata": {},
   "source": [
    "#### Задача 12. [0.25 балла]\n",
    "\n",
    "Составьте итоговую таблицу сравнения качества прогнозов всех рассмотренных моделей по всем метрикам. Постройте график прогнозов для лучших моделей."
   ]
  },
  {
   "cell_type": "code",
   "execution_count": null,
   "metadata": {},
   "outputs": [],
   "source": []
  },
  {
   "cell_type": "markdown",
   "metadata": {},
   "source": [
    "**Выводы:**"
   ]
  }
 ],
 "metadata": {
  "kernelspec": {
   "display_name": "Python 3",
   "language": "python",
   "name": "python3"
  },
  "language_info": {
   "codemirror_mode": {
    "name": "ipython",
    "version": 3
   },
   "file_extension": ".py",
   "mimetype": "text/x-python",
   "name": "python",
   "nbconvert_exporter": "python",
   "pygments_lexer": "ipython3",
   "version": "3.8.10"
  },
  "toc": {
   "base_numbering": 1,
   "nav_menu": {},
   "number_sections": true,
   "sideBar": true,
   "skip_h1_title": false,
   "title_cell": "Table of Contents",
   "title_sidebar": "Contents",
   "toc_cell": false,
   "toc_position": {
    "height": "calc(100% - 180px)",
    "left": "10px",
    "top": "150px",
    "width": "369.6px"
   },
   "toc_section_display": true,
   "toc_window_display": true
  }
 },
 "nbformat": 4,
 "nbformat_minor": 2
}
