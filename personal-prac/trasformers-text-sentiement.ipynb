{
 "cells": [
  {
   "cell_type": "markdown",
   "source": [
    "# ЗАДАЧА\n",
    "С помощью библиотеки transformers решите задачу sentiment analysis, предсказав для нескольких примеров текстов, являются ли они положительно или отрицательно окрашенными. Решение представьте в виде Jupyter notebook или ссылкой на Google Collab"
   ],
   "metadata": {
    "collapsed": false
   },
   "id": "4f2eefd0340e831c"
  },
  {
   "cell_type": "code",
   "outputs": [
    {
     "name": "stdout",
     "output_type": "stream",
     "text": [
      "Requirement already satisfied: transformers in /home/denis/Documents/5_ITMO/NIR/deep-learning-practice/venv/lib/python3.11/site-packages (4.38.2)\r\n",
      "Requirement already satisfied: filelock in /usr/lib/python3/dist-packages (from transformers) (3.6.0)\r\n",
      "Requirement already satisfied: huggingface-hub<1.0,>=0.19.3 in /home/denis/Documents/5_ITMO/NIR/deep-learning-practice/venv/lib/python3.11/site-packages (from transformers) (0.21.4)\r\n",
      "Requirement already satisfied: numpy>=1.17 in /home/denis/Documents/5_ITMO/NIR/deep-learning-practice/venv/lib/python3.11/site-packages (from transformers) (1.26.4)\r\n",
      "Requirement already satisfied: packaging>=20.0 in /usr/lib/python3/dist-packages (from transformers) (21.3)\r\n",
      "Requirement already satisfied: pyyaml>=5.1 in /usr/lib/python3/dist-packages (from transformers) (5.4.1)\r\n",
      "Requirement already satisfied: regex!=2019.12.17 in /home/denis/Documents/5_ITMO/NIR/deep-learning-practice/venv/lib/python3.11/site-packages (from transformers) (2023.12.25)\r\n",
      "Requirement already satisfied: requests in /home/denis/Documents/5_ITMO/NIR/deep-learning-practice/venv/lib/python3.11/site-packages (from transformers) (2.31.0)\r\n",
      "Requirement already satisfied: tokenizers<0.19,>=0.14 in /home/denis/Documents/5_ITMO/NIR/deep-learning-practice/venv/lib/python3.11/site-packages (from transformers) (0.15.2)\r\n",
      "Requirement already satisfied: safetensors>=0.4.1 in /home/denis/Documents/5_ITMO/NIR/deep-learning-practice/venv/lib/python3.11/site-packages (from transformers) (0.4.2)\r\n",
      "Requirement already satisfied: tqdm>=4.27 in /home/denis/Documents/5_ITMO/NIR/deep-learning-practice/venv/lib/python3.11/site-packages (from transformers) (4.66.2)\r\n",
      "Requirement already satisfied: fsspec>=2023.5.0 in /home/denis/Documents/5_ITMO/NIR/deep-learning-practice/venv/lib/python3.11/site-packages (from huggingface-hub<1.0,>=0.19.3->transformers) (2024.2.0)\r\n",
      "Requirement already satisfied: typing-extensions>=3.7.4.3 in /home/denis/Documents/5_ITMO/NIR/deep-learning-practice/venv/lib/python3.11/site-packages (from huggingface-hub<1.0,>=0.19.3->transformers) (4.10.0)\r\n",
      "Requirement already satisfied: charset-normalizer<4,>=2 in /home/denis/Documents/5_ITMO/NIR/deep-learning-practice/venv/lib/python3.11/site-packages (from requests->transformers) (3.3.2)\r\n",
      "Requirement already satisfied: idna<4,>=2.5 in /usr/lib/python3/dist-packages (from requests->transformers) (3.3)\r\n",
      "Requirement already satisfied: urllib3<3,>=1.21.1 in /usr/lib/python3/dist-packages (from requests->transformers) (1.26.5)\r\n",
      "Requirement already satisfied: certifi>=2017.4.17 in /usr/lib/python3/dist-packages (from requests->transformers) (2020.6.20)\r\n"
     ]
    }
   ],
   "source": [
    "!pip install transformers"
   ],
   "metadata": {
    "collapsed": false,
    "ExecuteTime": {
     "end_time": "2024-03-11T20:21:04.270947Z",
     "start_time": "2024-03-11T20:21:02.144006Z"
    }
   },
   "id": "2943432792e57d9f",
   "execution_count": 9
  },
  {
   "cell_type": "code",
   "outputs": [
    {
     "name": "stdout",
     "output_type": "stream",
     "text": [
      "Requirement already satisfied: threadpoolctl in /home/denis/Documents/5_ITMO/NIR/deep-learning-practice/venv/lib/python3.11/site-packages (3.3.0)\r\n"
     ]
    }
   ],
   "source": [
    "!pip install threadpoolctl"
   ],
   "metadata": {
    "collapsed": false,
    "ExecuteTime": {
     "end_time": "2024-03-11T20:21:05.844802Z",
     "start_time": "2024-03-11T20:21:04.272608Z"
    }
   },
   "id": "b781c0130b57294e",
   "execution_count": 10
  },
  {
   "cell_type": "code",
   "outputs": [],
   "source": [
    "import  transformers\n",
    "from transformers import pipeline"
   ],
   "metadata": {
    "collapsed": false,
    "ExecuteTime": {
     "end_time": "2024-03-11T20:21:05.848725Z",
     "start_time": "2024-03-11T20:21:05.846163Z"
    }
   },
   "id": "6d65d45ddd65c40a",
   "execution_count": 11
  },
  {
   "cell_type": "code",
   "outputs": [
    {
     "name": "stderr",
     "output_type": "stream",
     "text": [
      "No model was supplied, defaulted to distilbert/distilbert-base-uncased-finetuned-sst-2-english and revision af0f99b (https://huggingface.co/distilbert/distilbert-base-uncased-finetuned-sst-2-english).\n",
      "Using a pipeline without specifying a model name and revision in production is not recommended.\n"
     ]
    }
   ],
   "source": [
    "sentiment_pipeline = pipeline(\"sentiment-analysis\")"
   ],
   "metadata": {
    "collapsed": false,
    "ExecuteTime": {
     "end_time": "2024-03-11T20:21:06.097376Z",
     "start_time": "2024-03-11T20:21:05.850076Z"
    }
   },
   "id": "591186771f6172b1",
   "execution_count": 12
  },
  {
   "cell_type": "code",
   "outputs": [
    {
     "name": "stdout",
     "output_type": "stream",
     "text": [
      "Text: I love this product, it's absolutely amazing!\n",
      "Sentiment: POSITIVE, Score: 1.000\n",
      "------------------------------------------------------------\n",
      "Text: This is the worst experience I have ever had.\n",
      "Sentiment: NEGATIVE, Score: 1.000\n",
      "------------------------------------------------------------\n",
      "Text: Quite good, but could be better.\n",
      "Sentiment: POSITIVE, Score: 0.999\n",
      "------------------------------------------------------------\n",
      "Text: This service is a total disappointment.\n",
      "Sentiment: NEGATIVE, Score: 1.000\n",
      "------------------------------------------------------------\n",
      "Text: Exceptionally good service and quality!\n",
      "Sentiment: POSITIVE, Score: 1.000\n",
      "------------------------------------------------------------\n",
      "Text: У нас в есть убунты и текникал превью.\n",
      "Sentiment: NEGATIVE, Score: 0.651\n",
      "------------------------------------------------------------\n",
      "Text: Как минимум два малолетних дегенерата в треде, мда.\n",
      "Sentiment: NEGATIVE, Score: 0.550\n",
      "------------------------------------------------------------\n"
     ]
    }
   ],
   "source": [
    "texts = [\n",
    "    \"I love this product, it's absolutely amazing!\",\n",
    "    \"This is the worst experience I have ever had.\",\n",
    "    \"Quite good, but could be better.\",\n",
    "    \"This service is a total disappointment.\",\n",
    "    \"Exceptionally good service and quality!\",\n",
    "    'У нас в есть убунты и текникал превью.',\n",
    "    'Как минимум два малолетних дегенерата в треде, мда.'\n",
    "]\n",
    "\n",
    "results = sentiment_pipeline(texts)\n",
    "\n",
    "for text, result in zip(texts, results):\n",
    "    print(f\"Text: {text}\")\n",
    "    print(f\"Sentiment: {result['label']}, Score: {result['score']:.3f}\")\n",
    "    print(\"-\" * 60)\n"
   ],
   "metadata": {
    "collapsed": false,
    "ExecuteTime": {
     "end_time": "2024-03-11T20:52:59.051180Z",
     "start_time": "2024-03-11T20:52:58.926606Z"
    }
   },
   "id": "deb2bedd3864fd5a",
   "execution_count": 19
  },
  {
   "cell_type": "code",
   "outputs": [],
   "source": [],
   "metadata": {
    "collapsed": false,
    "ExecuteTime": {
     "end_time": "2024-03-11T20:21:06.163568Z",
     "start_time": "2024-03-11T20:21:06.161947Z"
    }
   },
   "id": "8f7e91cb35a1def1",
   "execution_count": 13
  }
 ],
 "metadata": {
  "kernelspec": {
   "display_name": "Python 3",
   "language": "python",
   "name": "python3"
  },
  "language_info": {
   "codemirror_mode": {
    "name": "ipython",
    "version": 2
   },
   "file_extension": ".py",
   "mimetype": "text/x-python",
   "name": "python",
   "nbconvert_exporter": "python",
   "pygments_lexer": "ipython2",
   "version": "2.7.6"
  }
 },
 "nbformat": 4,
 "nbformat_minor": 5
}
