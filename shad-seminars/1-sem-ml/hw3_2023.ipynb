{
 "cells": [
  {
   "cell_type": "markdown",
   "id": "recorded-outside",
   "metadata": {},
   "source": [
    "# Машинное обучение, ШАД\n",
    "## Домашнее задание 3\n",
    "\n",
    "\n",
    "**Правила:**\n",
    "\n",
    "* Дедлайн **2 октября 15:00**. После дедлайна работы не принимаются кроме случаев наличия уважительной причины.\n",
    "* Для сдачи задания нужно загрузить **ноутбук в формате `ipynb`** в ЛМС.\n",
    "* Выполнять задание необходимо полностью самостоятельно.\n",
    "* Для выполнения задания используйте этот ноутбук в качестве основы, ничего не удаляя из него. Можно добавлять необходимое количество ячеек.\n",
    "* Комментарии к решению пишите в markdown-ячейках.\n",
    "* Выполнение задания (ход решения, выводы и пр.) должно быть осуществлено на русском языке.\n",
    "* Если код будет не понятен проверяющему, оценка может быть снижена.\n",
    "* Никакой код из данного задания при проверке запускаться не будет. *Если код студента не выполнен, недописан и т.д., то он не оценивается.*\n",
    "\n",
    "\n",
    "**Правила оформления теоретических задач:**\n",
    "\n",
    "* Решения необходимо прислать одним из следующих способов:\n",
    "  * фотографией в правильной ориентации, где все четко видно, а почерк разборчив,\n",
    "    * прикрепив ее в ЛМС в форматах `pdf`, `png` или `jpg` *или*\n",
    "    * вставив ее в ноутбук посредством `Edit -> Insert Image`;\n",
    "  * в виде $\\LaTeX$ в markdown-ячейках или в отдельном `pdf`-файле.\n",
    "* Решения не проверяются, если какое-то требование не выполнено. Особенно внимательно все проверьте в случае выбора второго пункта (вставки фото в ноутбук). <font color=\"red\"><b>Неправильно вставленные фотографии могут не передаться при отправке.</b></font> Для проверки попробуйте переместить `ipynb` в другую папку и открыть его там.\n",
    "* В решениях поясняйте, чем вы пользуетесь, хотя бы кратко. Например, если пользуетесь независимостью, то достаточно подписи вида \"*X и Y незав.*\"\n",
    "* Решение, в котором есть только ответ, и отсутствуют вычисления, оценивается в 0 баллов.\n",
    "\n",
    "**Баллы за задание:**\n",
    "\n",
    "* Задача 1 &mdash; 1 балл;\n",
    "* Задача 2 &mdash; 1 балл;\n",
    "* Задача 3 &mdash; 1 балл;\n",
    "* Задача 4 &mdash; 1 балл;\n",
    "* Задача 5 &mdash; 5 баллов.\n",
    "\n",
    "----"
   ]
  },
  {
   "cell_type": "markdown",
   "id": "d4bc297b-000f-4ee5-9ca5-0ccdeba20c1d",
   "metadata": {},
   "source": [
    "---\n",
    "### Задача 1. \n",
    "\n",
    "1. Пусть $X_1,...,X_n$ &mdash; выборка из гамма-распределения с плотностью $p_\\theta(x) = \\frac{\\theta^\\beta}{\\Gamma(\\beta)} x^{\\beta-1} e^{-\\theta x}$, где $\\theta>0, \\beta>0, x>0$, причем $\\beta$ известно. Найдите оценку максимального правдоподобия параметра $\\theta$.\n",
    "\n",
    "2. Пусть $X_1,...,X_n$ &mdash; выборка из пуассоновского распределения, для которого $\\mathsf{P}_\\theta(X_i = k) = \\frac{\\theta^k}{k!}e^{-\\theta}$, где $\\theta>0, k \\in \\mathbb{Z}_+ = \\{0, 1, 2, ...\\}$. Найдите оценку максимального правдоподобия параметра $\\theta$."
   ]
  },
  {
   "cell_type": "markdown",
   "id": "8dd19ad3-9765-489d-985a-1010a6f2145e",
   "metadata": {},
   "source": [
    "---\n",
    "### Задача 2.\n",
    "\n",
    "Пусть $\\ell_Y(\\theta)$ &mdash; логарифмическая функция правдоподобия в модели логистической регрессии, задачу максимизации которой мы рассматривали на лекции. Добавим к ней $L_2$-регуляризатор и будем рассматривать задачу\n",
    "$$F(\\theta) = -\\ell_Y(\\theta) + \\lambda \\|\\theta\\|^2  \\longrightarrow \\min_{\\theta \\in \\mathbb{R}^d},$$\n",
    "где $\\lambda > 0$ &mdash; коэффициент регуляризации.\n",
    "\n",
    "1. Выпишите формулы градиентного спуска (GD) и стохастического градиентного спуска (SGD).\n",
    "\n",
    "2. Покажите, что $F(\\theta)$ &mdash; выпуклая функция по $\\theta$ и, как следствие, имеет единственный экстремум, являющийся глобальным максимумом. *Указание*. Посчитайте гессиан (матрицу вторых производных) и покажите, что она положительно определена.\n",
    "\n",
    "3. Опишите, как может вести себя решение при отсутствии регуляризации, то есть при $\\lambda = 0$"
   ]
  },
  {
   "cell_type": "markdown",
   "id": "52f4775a-a8a4-43f4-960d-d96702fe9254",
   "metadata": {},
   "source": [
    "---\n",
    "### Задача 3.\n",
    "\n",
    "Рассмотрим линейную регрессию $y(x) = x^T \\theta$, причем для оценки $\\theta$ будем рассматривать функцию потерь Хьюбера\n",
    "$$R(x) = \\frac{x^2}{2} I\\{|x| \\leqslant c\\} + c\\left(|x| - \\frac{c}{2}\\right)I\\{|x| > c\\}.$$\n",
    "\n",
    "Тем самым задача оптимизации имеет вид\n",
    "$$\\sum_{i=1}^n R(Y_i + x_i^T \\theta) \\longrightarrow \\min_{\\theta \\in \\mathbb{R}^d}.$$\n",
    "\n",
    "1. Нарисуйте график $R(x)$. В чем польза выбора такой функции потерь?\n",
    "\n",
    "2. Выпишите формулы градиентного спуска (GD) и стохастического градиентного спуска (SGD)."
   ]
  },
  {
   "cell_type": "markdown",
   "id": "1f18379a-ad1c-4fa6-97e7-964b9cbc3238",
   "metadata": {},
   "source": [
    "---\n",
    "### Задача 4.\n",
    "\n",
    "В предыдущем домашнем задании вы подробно познакомились с линейными моделями, выяснили о необходимости обработки непрерывных и категориальных признаков, узнали о способах подбора гиперпараметров. Порассуждайте над следующими вопросами."
   ]
  },
  {
   "cell_type": "markdown",
   "id": "d7354a50-8c39-46bc-875c-be3de71c6c66",
   "metadata": {},
   "source": [
    "**1.** Какие побочные эффекты могут возникунуть при стандартизации (нормализации) признаков с помощью `StandardScaler`, `MinMaxScaler`? Что с этим можно сделать?"
   ]
  },
  {
   "cell_type": "markdown",
   "id": "fe3a4f00-0342-43bb-ac02-8aa56940ba63",
   "metadata": {},
   "source": [
    "**2.** Рассмотрим пример с первого занятия про модель потребления мороженного от температуры:\n",
    "$$ic=\\theta_1 + \\theta_2 t.$$\n",
    "Предположим, что нам также известен еще один признак, отвечающий за год. Обозначим его за $y$. Пусть $y \\in \\{1, 2, 3\\}$. Попробуем учесть влияние года двумя разными способами:\n",
    "* Модель $ic = \\theta_1 + \\theta_2 t+ \\theta_3 y_1 + \\theta_4 y_2$, где $y_1 = I\\{y=1\\}$, $y_2 = I\\{y=2\\}$.\n",
    "* Для каждого года рассматривается своя линейная зависимость $ic=\\theta_1+\\theta_2 t$.\n",
    "  \n",
    "Поясните, в чем различие этих двух подходов."
   ]
  },
  {
   "cell_type": "markdown",
   "id": "5558fc9e-da13-4ec8-9841-aaa742c454e6",
   "metadata": {},
   "source": [
    "**3.** Визуализируйте совместные распределения вещественных признаков и целевой переменной для данных из предыдущего домашнего задания. Что можно сказать о зависимости таргета от признаков? Сделайте вывод о том, насколько хорошо построенные модели приближают истинные зависимости. \n",
    "\n",
    "Полученные графики приложите к решению теоретического задания."
   ]
  },
  {
   "cell_type": "markdown",
   "id": "billion-gnome",
   "metadata": {},
   "source": [
    "---\n",
    "### Задача 5.\n",
    "\n",
    "Реализуйте логистическую регрессию с $L_2$ регуляризацией для поиска оценки параметров с помощью стохастического mini-batch градиентного спуска (SGD)."
   ]
  },
  {
   "cell_type": "code",
   "execution_count": null,
   "id": "interested-backup",
   "metadata": {
    "colab": {},
    "colab_type": "code",
    "id": "d4xxxebKnQLm"
   },
   "outputs": [],
   "source": [
    "class LogisticRegression():\n",
    "    '''\n",
    "    Модель логистической регрессии. Имеет следующие гиперпараметры:\n",
    "\n",
    "    :param alpha: параметр регуляризации. \n",
    "                  Если равно 0, то регуляризация не происходит.\n",
    "    :param lr: константа, на которую домножаем градиент при обучении\n",
    "    :param max_iter: ограничение на кол-во итераций\n",
    "    :param fit_intercept: указывает, следует ли добавить константу в признаки\n",
    "    '''\n",
    "\n",
    "    def __init__(self, alpha=0, lr=0.5, max_iter=1e5,\n",
    "                 fit_intercept=True):\n",
    "        '''Создает модель и инициализирует параметры.'''\n",
    "\n",
    "        self.alpha = alpha\n",
    "        self.lr = lr\n",
    "        self.max_iter = max_iter\n",
    "        self.fit_intercept = fit_intercept\n",
    "\n",
    "    @staticmethod\n",
    "    def _sigmoid(x):\n",
    "        # используйте scipy.special.expit\n",
    "        return <...>\n",
    "\n",
    "    def _add_intercept(self, X):\n",
    "        '''\n",
    "        Добавляем свободный коэффициент к нашей модели. \n",
    "        Это происходит путем добавления вектора из 1 к исходной матрице.\n",
    "\n",
    "        :param X: исходная матрица признаков\n",
    "        :return: матрица X с добавленным свободным коэффициентов\n",
    "        '''\n",
    "\n",
    "        X_copy = np.full((X.shape[0], X.shape[1] + 1), fill_value=1.)\n",
    "        X_copy[:, :-1] = X\n",
    "\n",
    "        return X_copy\n",
    "\n",
    "    def fit(self, X, Y):\n",
    "        '''\n",
    "        Обучает модель логистической регресии с помощью SGD,\n",
    "        пока не выполнится self.max_iter итераций.\n",
    "\n",
    "        :param X: матрица признаков\n",
    "        :param Y: истинные метки\n",
    "        '''\n",
    "\n",
    "        assert X.shape[0] == Y.shape[0]\n",
    "\n",
    "        if self.fit_intercept:  # добавляем свободный коэфициент\n",
    "            X_copy = self._add_intercept(X)\n",
    "        else:\n",
    "            X_copy = X.copy()\n",
    "\n",
    "        <...>\n",
    "\n",
    "        self.coef_ = <...>  # коэффициенты модели\n",
    "        self.intercept_ = <...>  # свободный коэффициент\n",
    "        # self.weights состоит из коэффициентов модели и свободного члена\n",
    "        return self\n",
    "\n",
    "    def predict(self, X):\n",
    "        '''\n",
    "        Применяет обученную модель к данным \n",
    "        и возвращает точечное предсказание (оценку класса).\n",
    "\n",
    "        :param X: матрица признаков\n",
    "        :return: предсказание с размерностью (n_test, )\n",
    "        '''\n",
    "\n",
    "        if self.fit_intercept:\n",
    "            X_copy = self._add_intercept(X)\n",
    "        else:\n",
    "            X_copy = X.copy()\n",
    "\n",
    "        assert X_copy.shape[1] == self.weights.shape[0]\n",
    "\n",
    "        <...>\n",
    "\n",
    "        return predictions\n",
    "\n",
    "    def predict_proba(self, X):\n",
    "        '''\n",
    "        Применяет обученную модель к данным\n",
    "        и возвращает предсказание вероятности классов 0 и 1.\n",
    "\n",
    "        :param X: матрица признаков\n",
    "        :return: вероятности предсказания с размерностью (n_test, 2)\n",
    "        '''\n",
    "\n",
    "        if self.fit_intercept:\n",
    "            X_copy = self._add_intercept(X)\n",
    "        else:\n",
    "            X_copy = X.copy()\n",
    "\n",
    "        assert X_copy.shape[1] == self.weights.shape[0]\n",
    "\n",
    "        <...>\n",
    "\n",
    "        return prob_predictions"
   ]
  },
  {
   "cell_type": "markdown",
   "id": "rocky-adrian",
   "metadata": {},
   "source": [
    "Рассмотрим игрушечный датасет на $30$ признаков `load_breast_cancer` из библиотеки `sklearn`. Это относительно простой для бинарной классификации датасет по диагностике рака молочной железы."
   ]
  },
  {
   "cell_type": "markdown",
   "id": "organized-request",
   "metadata": {
    "colab_type": "text",
    "id": "HHPTpzcWhv_W"
   },
   "source": [
    "Ради интереса можно прочитать описание признаков."
   ]
  },
  {
   "cell_type": "code",
   "execution_count": null,
   "id": "anonymous-raising",
   "metadata": {
    "colab": {
     "base_uri": "https://localhost:8080/",
     "height": 372
    },
    "colab_type": "code",
    "id": "uUMbGPj-Fgfi",
    "outputId": "9b6b8f4b-d90a-42d7-d6d7-880c5853a33c"
   },
   "outputs": [],
   "source": [
    "dataset = load_breast_cancer()\n",
    "dataset['DESCR'].split('\\n')[11:31]"
   ]
  },
  {
   "cell_type": "markdown",
   "id": "dental-intersection",
   "metadata": {
    "colab_type": "text",
    "id": "JgaXPncW-Gab"
   },
   "source": [
    "Разделим нашу выборку на обучающую и тестовую:"
   ]
  },
  {
   "cell_type": "code",
   "execution_count": null,
   "id": "otherwise-savage",
   "metadata": {
    "colab": {
     "base_uri": "https://localhost:8080/",
     "height": 34
    },
    "colab_type": "code",
    "id": "WEn6HImRc8zJ",
    "outputId": "9c25a5a2-4ea6-4e33-c9be-b780470fbbbb"
   },
   "outputs": [],
   "source": [
    "X, Y = dataset['data'], dataset['target']\n",
    "\n",
    "X_train, X_test, Y_train, Y_test = train_test_split(\n",
    "    X, Y, test_size=0.2, random_state=42\n",
    ")\n",
    "X_train.shape, X_test.shape, Y_train.shape, Y_test.shape"
   ]
  },
  {
   "cell_type": "markdown",
   "id": "expired-process",
   "metadata": {
    "colab_type": "text",
    "id": "l8jzwZUCPB_l"
   },
   "source": [
    "При использовании регуляризации данные необходимо нормализовать. Воспользуемся для этого классом `StandardScaler` из библиотеки `sklearn`. "
   ]
  },
  {
   "cell_type": "code",
   "execution_count": null,
   "id": "backed-substance",
   "metadata": {
    "colab": {},
    "colab_type": "code",
    "id": "oNAqhHbZPBvb"
   },
   "outputs": [],
   "source": [
    "scaler = StandardScaler()"
   ]
  },
  {
   "cell_type": "markdown",
   "id": "healthy-break",
   "metadata": {},
   "source": [
    "Теперь обучите модель логистической регрессии."
   ]
  },
  {
   "cell_type": "code",
   "execution_count": null,
   "id": "armed-trinidad",
   "metadata": {
    "colab": {},
    "colab_type": "code",
    "id": "6yZEZS1tnv1q"
   },
   "outputs": [],
   "source": [
    "<...>"
   ]
  },
  {
   "cell_type": "markdown",
   "id": "modified-guidance",
   "metadata": {},
   "source": [
    "На занятии обсуждали, что в нашей постановке задачи при сравнении выиграет модель с меньшим FN, ведь каждая не обнаруженная опухоль может стоить человеческой жизни. Чем меньше ложно отрицательных срабатываний, тем выше Recall модели, а значит разумно взять Recall в качестве целевой метрики. \n",
    "\n",
    "Построить модель с Recall = 1 довольно просто (Как?), но в ней не будет большого смысла, т.к., например, для нашей задачи отправление на доп. обследование может стоить дополнительных средств и времени специалистов, поэтому хотелось, чтобы наша модель имела неплохую точность. Какую метрику можно использовать, чтобы учесть и точность, и полноту?\n",
    "\n",
    "<...>\n",
    "\n",
    "Выберите и посчитайте целевые метрики для нашей задачи."
   ]
  },
  {
   "cell_type": "code",
   "execution_count": null,
   "id": "sweet-excerpt",
   "metadata": {},
   "outputs": [],
   "source": [
    "<...>"
   ]
  },
  {
   "cell_type": "markdown",
   "id": "effective-palestinian",
   "metadata": {
    "colab_type": "text",
    "id": "mE0rZ7vPCH_S"
   },
   "source": [
    "Рассмотрите как влияет размер шага (`learning rate`) на качество модели. Обучите каждую модель одинаковое число итераций (например, 10000), а затем посчитайте качество. Сделайте выводы."
   ]
  },
  {
   "cell_type": "code",
   "execution_count": null,
   "id": "automotive-partner",
   "metadata": {
    "colab": {},
    "colab_type": "code",
    "id": "UL0NzUTDbuxW"
   },
   "outputs": [],
   "source": [
    "lrs = [1e-5, 1e-4, 1e-3, 1e-2, 0.1, 0.2, 0.3, 0.5, 0.7, 1, 2, 5, 10]"
   ]
  },
  {
   "cell_type": "code",
   "execution_count": null,
   "id": "cooked-spring",
   "metadata": {},
   "outputs": [],
   "source": [
    "<...>"
   ]
  },
  {
   "cell_type": "markdown",
   "id": "generic-madness",
   "metadata": {
    "colab_type": "text",
    "id": "UQy0zIrcClfm"
   },
   "source": [
    "Рассмотрите несколько моделей, в которых установите не менее 5-ти различных коэффициентов регуляризации, а также модель без регуляризатора. Сравните, влияет ли наличие регуляризации на качество, сделайте выводы. Под качеством подразумевается значение какой-либо выбранной вами метрики качества классификации."
   ]
  },
  {
   "cell_type": "code",
   "execution_count": null,
   "id": "convertible-edmonton",
   "metadata": {},
   "outputs": [],
   "source": [
    "<...>"
   ]
  },
  {
   "cell_type": "markdown",
   "id": "coordinate-expense",
   "metadata": {},
   "source": [
    "Выберите наилучшее значение коэффициента регуляризации с помощью кросс-валидации для двух подходов &mdash; `KFold` и `ShuffleSplit`. Используйте пять фолдов/разбиений."
   ]
  },
  {
   "cell_type": "code",
   "execution_count": null,
   "id": "assisted-rouge",
   "metadata": {},
   "outputs": [],
   "source": [
    "<...>"
   ]
  },
  {
   "cell_type": "markdown",
   "id": "365dfe74-d6e3-480e-a212-dbf0fbf93fe7",
   "metadata": {},
   "source": [
    "Для выбранного значения коэффициента регуляризации оцените дисперсию усредненного значения метрики качества на тестовых батчах. Для этого выполните кросс-валидацию достаточно много раз (не менее 100) и посчитайте выборочную дисперсию. Обратите внимание, что для стратегии `KFold` нужно на каждой итерации перемешивать данные, для этого можно указать `shuffle=True`.\n",
    "\n",
    "Сравните эти две стратегии кросс-валидации. Какие их преимущества и недостатки?"
   ]
  },
  {
   "cell_type": "code",
   "execution_count": null,
   "id": "92e1a734-b563-4bea-bcc9-f295fc14e303",
   "metadata": {},
   "outputs": [],
   "source": [
    "<...>"
   ]
  },
  {
   "cell_type": "markdown",
   "id": "destroyed-syntax",
   "metadata": {},
   "source": [
    "**Вывод:** <...>"
   ]
  }
 ],
 "metadata": {
  "kernelspec": {
   "display_name": "Python 3 (ipykernel)",
   "language": "python",
   "name": "python3"
  },
  "language_info": {
   "codemirror_mode": {
    "name": "ipython",
    "version": 3
   },
   "file_extension": ".py",
   "mimetype": "text/x-python",
   "name": "python",
   "nbconvert_exporter": "python",
   "pygments_lexer": "ipython3",
   "version": "3.9.12"
  },
  "varInspector": {
   "cols": {
    "lenName": 16,
    "lenType": 16,
    "lenVar": 40
   },
   "kernels_config": {
    "python": {
     "delete_cmd_postfix": "",
     "delete_cmd_prefix": "del ",
     "library": "var_list.py",
     "varRefreshCmd": "print(var_dic_list())"
    },
    "r": {
     "delete_cmd_postfix": ") ",
     "delete_cmd_prefix": "rm(",
     "library": "var_list.r",
     "varRefreshCmd": "cat(var_dic_list()) "
    }
   },
   "types_to_exclude": [
    "module",
    "function",
    "builtin_function_or_method",
    "instance",
    "_Feature"
   ],
   "window_display": false
  }
 },
 "nbformat": 4,
 "nbformat_minor": 5
}
