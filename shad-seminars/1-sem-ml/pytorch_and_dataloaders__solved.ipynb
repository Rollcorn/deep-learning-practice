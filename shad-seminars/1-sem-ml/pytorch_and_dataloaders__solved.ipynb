{
 "cells": [
  {
   "cell_type": "markdown",
   "metadata": {},
   "source": [
    "# week 09 PyTorch practice, hints and Dataloaders"
   ]
  },
  {
   "cell_type": "markdown",
   "metadata": {},
   "source": [
    "Credits:\n",
    "* First part is based on YSDA [Practical RL course week04 materials](https://github.com/yandexdataschool/Practical_RL/tree/master/week04_%5Brecap%5D_deep_learning).\n",
    "* Second part is based on PyTorch official tutorials and [this kaggle kernel](https://www.kaggle.com/pinocookie/pytorch-dataset-and-dataloader)\n",
    "* Third part is based on PyTorch tutorial by [Stanford CS 231n course](http://cs231n.stanford.edu)"
   ]
  },
  {
   "cell_type": "markdown",
   "metadata": {},
   "source": [
    "![img](https://pytorch.org/tutorials/_static/pytorch-logo-dark.svg)\n",
    "\n",
    "__This notebook__ will teach you to use pytorch low-level core. You can install it [here](http://pytorch.org/).\n",
    "\n",
    "__Pytorch feels__ differently than other frameworks (like tensorflow/theano) on almost every level. TensorFlow makes your code live in two \"worlds\" simultaneously:  symbolic graphs and actual tensors. First you declare a symbolic \"recipe\" of how to get from inputs to outputs, then feed it with actual minibatches of data.  In pytorch, __there's only one world__: all tensors have a numeric value.\n",
    "\n",
    "You compute outputs on the fly without pre-declaring anything. The code looks exactly as in pure numpy with one exception: pytorch computes gradients for you. And can run stuff on GPU. And has a number of pre-implemented building blocks for your neural nets. [And a few more things.](https://medium.com/towards-data-science/pytorch-vs-tensorflow-spotting-the-difference-25c75777377b)\n",
    "\n",
    "Let's dive into it!"
   ]
  },
  {
   "cell_type": "code",
   "execution_count": null,
   "metadata": {
    "ExecuteTime": {
     "end_time": "2021-05-15T12:09:37.524783Z",
     "start_time": "2021-05-15T12:09:32.623687Z"
    }
   },
   "outputs": [],
   "source": []
  },
  {
   "cell_type": "code",
   "execution_count": 1,
   "metadata": {
    "ExecuteTime": {
     "end_time": "2021-05-15T12:09:38.596016Z",
     "start_time": "2021-05-15T12:09:37.530378Z"
    }
   },
   "outputs": [],
   "source": [
    "import matplotlib.pyplot as plt\n",
    "import numpy as np  # linear algebra\n",
    "import pandas as pd  # data processing, CSV file I/O (e.g. pd.read_csv)\n",
    "import torch\n",
    "import torchvision\n",
    "from torch.utils.data import DataLoader, Dataset, Subset\n",
    "from torchvision import transforms"
   ]
  },
  {
   "cell_type": "markdown",
   "metadata": {},
   "source": [
    "### Task 1: Tensormancy\n",
    "\n",
    "__1.1 The [_disclaimer_](https://gist.githubusercontent.com/justheuristic/e2c1fa28ca02670cabc42cacf3902796/raw/fd3d935cef63a01b85ed2790b5c11c370245cbd7/stddisclaimer.h)__\n",
    "\n",
    "Let's write another function, this time in polar coordinates:\n",
    "$$\\rho(\\theta) = (1 + 0.9 \\cdot cos (6 \\cdot \\theta) ) \\cdot (1 + 0.01 \\cdot cos(24 \\cdot \\theta)) \\cdot (0.5 + 0.05 \\cdot cos(200 \\cdot \\theta)) \\cdot (10 + sin(10 \\cdot \\theta))$$\n",
    "\n",
    "\n",
    "Then convert it into cartesian coordinates ([howto](http://www.mathsisfun.com/polar-cartesian-coordinates.html)) and plot the results.\n",
    "\n",
    "Use torch tensors only: no lists, loops, numpy arrays, etc."
   ]
  },
  {
   "cell_type": "code",
   "execution_count": null,
   "metadata": {
    "ExecuteTime": {
     "end_time": "2020-02-28T00:13:20.890514Z",
     "start_time": "2020-02-28T00:13:20.639022Z"
    }
   },
   "outputs": [],
   "source": [
    "theta = torch.linspace(-np.pi, np.pi, steps=1000)\n",
    "\n",
    "# compute rho(theta) as per formula above\n",
    "rho = None  # YOUR CODE HERE\n",
    "\n",
    "# Now convert polar (rho, theta) pairs into cartesian (x,y) to plot them.\n",
    "x = None  # YOUR CODE HERE\n",
    "y = None  # YOUR CODE HERE\n",
    "\n",
    "\n",
    "plt.figure(figsize=(6, 6))\n",
    "plt.fill(x.numpy(), y.numpy(), color=\"red\")\n",
    "plt.grid()"
   ]
  },
  {
   "cell_type": "markdown",
   "metadata": {},
   "source": [
    "### Task 2: Using the Dataloader"
   ]
  },
  {
   "cell_type": "code",
   "execution_count": 2,
   "metadata": {
    "ExecuteTime": {
     "end_time": "2021-05-15T12:10:11.032298Z",
     "start_time": "2021-05-15T12:10:11.026817Z"
    }
   },
   "outputs": [],
   "source": [
    "from torch import nn\n",
    "from torch.nn import functional as F"
   ]
  },
  {
   "cell_type": "code",
   "execution_count": 3,
   "metadata": {
    "ExecuteTime": {
     "end_time": "2021-05-15T12:10:16.847229Z",
     "start_time": "2021-05-15T12:10:16.274927Z"
    }
   },
   "outputs": [],
   "source": [
    "# !wget https://raw.githubusercontent.com/neychev/harbour_ml2020/master/day10_Optimization_and_regularization_in_DL/notmnist.py"
   ]
  },
  {
   "cell_type": "code",
   "execution_count": 4,
   "metadata": {
    "ExecuteTime": {
     "end_time": "2021-05-15T12:13:01.524805Z",
     "start_time": "2021-05-15T12:12:51.811975Z"
    }
   },
   "outputs": [],
   "source": [
    "# ! pip install sklearn"
   ]
  },
  {
   "cell_type": "code",
   "execution_count": 3,
   "metadata": {
    "ExecuteTime": {
     "end_time": "2021-05-15T12:13:22.357497Z",
     "start_time": "2021-05-15T12:13:03.034526Z"
    }
   },
   "outputs": [],
   "source": [
    "from torchvision.datasets import FashionMNIST"
   ]
  },
  {
   "cell_type": "code",
   "execution_count": 4,
   "metadata": {},
   "outputs": [],
   "source": [
    "data_train = FashionMNIST('.', download=True, train=True)\n",
    "data_test = FashionMNIST('.', download=True, train=False)"
   ]
  },
  {
   "cell_type": "code",
   "execution_count": 5,
   "metadata": {},
   "outputs": [
    {
     "data": {
      "image/png": "[encoded data removed]",
      "text/plain": [
       "<PIL.Image.Image image mode=L size=28x28>"
      ]
     },
     "execution_count": 5,
     "metadata": {},
     "output_type": "execute_result"
    }
   ],
   "source": [
    "data_test[0][0]"
   ]
  },
  {
   "cell_type": "code",
   "execution_count": 6,
   "metadata": {
    "ExecuteTime": {
     "end_time": "2021-05-15T12:16:40.801197Z",
     "start_time": "2021-05-15T12:16:40.796887Z"
    }
   },
   "outputs": [
    {
     "name": "stdout",
     "output_type": "stream",
     "text": [
      "An abstract class representing a :class:`Dataset`.\n",
      "\n",
      "    All datasets that represent a map from keys to data samples should subclass\n",
      "    it. All subclasses should overwrite :meth:`__getitem__`, supporting fetching a\n",
      "    data sample for a given key. Subclasses could also optionally overwrite\n",
      "    :meth:`__len__`, which is expected to return the size of the dataset by many\n",
      "    :class:`~torch.utils.data.Sampler` implementations and the default options\n",
      "    of :class:`~torch.utils.data.DataLoader`. Subclasses could also\n",
      "    optionally implement :meth:`__getitems__`, for speedup batched samples\n",
      "    loading. This method accepts list of indices of samples of batch and returns\n",
      "    list of samples.\n",
      "\n",
      "    .. note::\n",
      "      :class:`~torch.utils.data.DataLoader` by default constructs a index\n",
      "      sampler that yields integral indices.  To make it work with a map-style\n",
      "      dataset with non-integral indices/keys, a custom sampler must be provided.\n",
      "    \n"
     ]
    }
   ],
   "source": [
    "print(Dataset.__doc__)"
   ]
  },
  {
   "cell_type": "code",
   "execution_count": 12,
   "metadata": {
    "ExecuteTime": {
     "end_time": "2021-05-15T12:17:47.047358Z",
     "start_time": "2021-05-15T12:17:47.041319Z"
    }
   },
   "outputs": [],
   "source": [
    "class DatasetMNIST(Dataset):\n",
    "    def __init__(self, path=\"./notMNIST_small\", letters=\"ABCDEFGHIJ\", transform=None):\n",
    "        self.data, self.labels, _, _ = load_notmnist(path=path, letters=letters, test_size=0)\n",
    "        self.transform = transform\n",
    "\n",
    "    def __len__(self):\n",
    "        return len(self.data)\n",
    "\n",
    "    def __getitem__(self, index):\n",
    "        # load image as ndarray type (Height * Width * Channels)\n",
    "        # be carefull for converting dtype to np.uint8 [Unsigned integer (0 to 255)]\n",
    "        # in this example, i don't use ToTensor() method of torchvision.transforms\n",
    "        # so you can convert numpy ndarray shape to tensor in PyTorch (H, W, C) --> (C, H, W)\n",
    "        image = self.data[index].transpose(1, 2, 0)\n",
    "        label = self.labels[index]\n",
    "\n",
    "        if self.transform is not None:\n",
    "            image = self.transform(image)\n",
    "\n",
    "        return image, label"
   ]
  },
  {
   "cell_type": "code",
   "execution_count": 13,
   "metadata": {
    "ExecuteTime": {
     "end_time": "2021-05-15T12:17:49.115805Z",
     "start_time": "2021-05-15T12:17:48.693678Z"
    }
   },
   "outputs": [
    {
     "name": "stdout",
     "output_type": "stream",
     "text": [
      "Parsing...\n",
      "found broken img: ./notMNIST_small/A/RGVtb2NyYXRpY2FCb2xkT2xkc3R5bGUgQm9sZC50dGY=.png [it's ok if <10 images are broken]\n",
      "Done\n"
     ]
    }
   ],
   "source": [
    "full_dataset = DatasetMNIST(\"./notMNIST_small\", \"AB\", transform=None)"
   ]
  },
  {
   "cell_type": "code",
   "execution_count": 14,
   "metadata": {
    "ExecuteTime": {
     "end_time": "2021-05-15T12:17:51.669798Z",
     "start_time": "2021-05-15T12:17:51.661712Z"
    }
   },
   "outputs": [
    {
     "name": "stdout",
     "output_type": "stream",
     "text": [
      "(28, 28, 1)\n",
      "<class 'numpy.ndarray'>\n"
     ]
    }
   ],
   "source": [
    "# we can access and get data with index by __getitem__(index)\n",
    "img, lab = full_dataset.__getitem__(0)\n",
    "\n",
    "print(img.shape)\n",
    "print(type(img))"
   ]
  },
  {
   "cell_type": "code",
   "execution_count": 18,
   "metadata": {
    "ExecuteTime": {
     "end_time": "2021-05-15T12:28:51.305995Z",
     "start_time": "2021-05-15T12:28:51.284696Z"
    }
   },
   "outputs": [
    {
     "data": {
      "text/plain": [
       "torch.Size([1, 28, 28])"
      ]
     },
     "execution_count": 18,
     "metadata": {},
     "output_type": "execute_result"
    }
   ],
   "source": [
    "a = torchvision.transforms.ToTensor()\n",
    "\n",
    "a(img).shape"
   ]
  },
  {
   "cell_type": "code",
   "execution_count": 19,
   "metadata": {
    "ExecuteTime": {
     "end_time": "2021-05-15T12:30:39.068254Z",
     "start_time": "2021-05-15T12:30:38.905635Z"
    }
   },
   "outputs": [
    {
     "data": {
      "image/png": "[encoded data removed]",
      "text/plain": [
       "<Figure size 640x480 with 2 Axes>"
      ]
     },
     "metadata": {},
     "output_type": "display_data"
    }
   ],
   "source": [
    "inds = np.random.randint(len(data_train), size=2)\n",
    "\n",
    "for i in range(2):\n",
    "    plt.subplot(1, 2, i + 1)\n",
    "    plt.imshow(np.array(data_train[inds[i]][0]).reshape([28, 28]))\n",
    "    plt.title(str(data_train[inds[i]][1]))"
   ]
  },
  {
   "cell_type": "markdown",
   "metadata": {},
   "source": [
    "#### To the DataLoader"
   ]
  },
  {
   "cell_type": "code",
   "execution_count": 20,
   "metadata": {
    "ExecuteTime": {
     "end_time": "2021-05-15T12:45:34.053787Z",
     "start_time": "2021-05-15T12:45:34.051854Z"
    }
   },
   "outputs": [],
   "source": [
    "train_loader = DataLoader(data_train, batch_size=32, shuffle=True, num_workers=1)"
   ]
  },
  {
   "cell_type": "markdown",
   "metadata": {},
   "source": [
    "We can use dataloader as iterator by using iter() function."
   ]
  },
  {
   "cell_type": "code",
   "execution_count": 21,
   "metadata": {
    "ExecuteTime": {
     "end_time": "2021-05-15T12:45:37.186371Z",
     "start_time": "2021-05-15T12:45:37.172366Z"
    }
   },
   "outputs": [
    {
     "name": "stdout",
     "output_type": "stream",
     "text": [
      "<class 'torch.utils.data.dataloader._MultiProcessingDataLoaderIter'>\n"
     ]
    }
   ],
   "source": [
    "train_iter = iter(train_loader)\n",
    "print(type(train_iter))"
   ]
  },
  {
   "cell_type": "code",
   "execution_count": 34,
   "metadata": {
    "ExecuteTime": {
     "end_time": "2021-05-15T12:46:18.927311Z",
     "start_time": "2021-05-15T12:46:18.871111Z"
    }
   },
   "outputs": [
    {
     "name": "stderr",
     "output_type": "stream",
     "text": [
      "Clipping input data to the valid range for imshow with RGB data ([0..1] for floats or [0..255] for integers).\n",
      "/opt/miniconda3/envs/ml-mipt/lib/python3.8/site-packages/matplotlib/text.py:1215: FutureWarning: elementwise comparison failed; returning scalar instead, but in the future will perform elementwise comparison\n",
      "  if s != self._text:\n"
     ]
    },
    {
     "data": {
      "image/png": "[encoded data removed]",
      "text/plain": [
       "<Figure size 432x288 with 1 Axes>"
      ]
     },
     "metadata": {
      "needs_background": "light"
     },
     "output_type": "display_data"
    }
   ],
   "source": [
    "# make grid takes tensor as arg\n",
    "# tensor : (batchsize, channels, height, width)\n",
    "grid = torchvision.utils.make_grid(images.permute([0, 3, 1, 2]))\n",
    "\n",
    "plt.imshow(grid.numpy().transpose((1, 2, 0)))\n",
    "plt.axis(\"off\")\n",
    "plt.title(labels.numpy());"
   ]
  },
  {
   "cell_type": "markdown",
   "metadata": {},
   "source": [
    "And now with transformations:"
   ]
  },
  {
   "cell_type": "code",
   "execution_count": 35,
   "metadata": {
    "ExecuteTime": {
     "end_time": "2021-05-15T12:48:45.968729Z",
     "start_time": "2021-05-15T12:48:43.974652Z"
    }
   },
   "outputs": [
    {
     "name": "stdout",
     "output_type": "stream",
     "text": [
      "Parsing...\n",
      "found broken img: ./notMNIST_small/A/RGVtb2NyYXRpY2FCb2xkT2xkc3R5bGUgQm9sZC50dGY=.png [it's ok if <10 images are broken]\n",
      "found broken img: ./notMNIST_small/F/Q3Jvc3NvdmVyIEJvbGRPYmxpcXVlLnR0Zg==.png [it's ok if <10 images are broken]\n",
      "Done\n"
     ]
    }
   ],
   "source": [
    "train_dataset_with_transform = DatasetMNIST(transform=torchvision.transforms.ToTensor())"
   ]
  },
  {
   "cell_type": "code",
   "execution_count": 36,
   "metadata": {
    "ExecuteTime": {
     "end_time": "2021-05-15T12:48:48.069398Z",
     "start_time": "2021-05-15T12:48:48.064151Z"
    }
   },
   "outputs": [
    {
     "name": "stdout",
     "output_type": "stream",
     "text": [
      "image shape at the first row : torch.Size([1, 28, 28])\n"
     ]
    }
   ],
   "source": [
    "img, lab = train_dataset_with_transform.__getitem__(0)\n",
    "\n",
    "print(\"image shape at the first row : {}\".format(img.size()))"
   ]
  },
  {
   "cell_type": "code",
   "execution_count": 37,
   "metadata": {
    "ExecuteTime": {
     "end_time": "2021-05-15T12:48:57.653616Z",
     "start_time": "2021-05-15T12:48:57.640221Z"
    }
   },
   "outputs": [
    {
     "name": "stdout",
     "output_type": "stream",
     "text": [
      "<class 'torch.utils.data.dataloader._SingleProcessDataLoaderIter'>\n",
      "images shape on batch size = torch.Size([8, 1, 28, 28])\n",
      "labels shape on batch size = torch.Size([8])\n"
     ]
    }
   ],
   "source": [
    "train_loader_tr = DataLoader(train_dataset_with_transform, batch_size=8, shuffle=True)\n",
    "\n",
    "train_iter_tr = iter(train_loader_tr)\n",
    "print(type(train_iter_tr))\n",
    "\n",
    "images, labels = train_iter_tr.next()\n",
    "\n",
    "print(\"images shape on batch size = {}\".format(images.size()))\n",
    "print(\"labels shape on batch size = {}\".format(labels.size()))"
   ]
  },
  {
   "cell_type": "code",
   "execution_count": 38,
   "metadata": {
    "ExecuteTime": {
     "end_time": "2021-05-15T12:49:00.216937Z",
     "start_time": "2021-05-15T12:49:00.176878Z"
    }
   },
   "outputs": [
    {
     "name": "stderr",
     "output_type": "stream",
     "text": [
      "Clipping input data to the valid range for imshow with RGB data ([0..1] for floats or [0..255] for integers).\n"
     ]
    },
    {
     "data": {
      "image/png": "[encoded data removed]",
      "text/plain": [
       "<Figure size 432x288 with 1 Axes>"
      ]
     },
     "metadata": {
      "needs_background": "light"
     },
     "output_type": "display_data"
    }
   ],
   "source": [
    "grid = torchvision.utils.make_grid(images)\n",
    "\n",
    "plt.imshow(grid.numpy().transpose((1, 2, 0)))\n",
    "plt.axis(\"off\")\n",
    "plt.title(labels.numpy());"
   ]
  },
  {
   "cell_type": "markdown",
   "metadata": {},
   "source": [
    "### Composing several transformations"
   ]
  },
  {
   "cell_type": "markdown",
   "metadata": {},
   "source": [
    "If you want to take data augmentation, you have to make List using `torchvision.transforms.Compose`\n",
    "\n",
    "```\n",
    "class Compose(object):\n",
    "    \"\"\"Composes several transforms together.\n",
    "    Args:\n",
    "        transforms (list of ``Transform`` objects): list of transforms to compose.\n",
    "    Example:\n",
    "        >>> transforms.Compose([\n",
    "        >>>     transforms.CenterCrop(10),\n",
    "        >>>     transforms.ToTensor(),\n",
    "        >>> ])\n",
    "    \"\"\"\n",
    "\n",
    "    def __init__(self, transforms):\n",
    "        self.transforms = transforms\n",
    "\n",
    "    def __call__(self, img):\n",
    "        for t in self.transforms:\n",
    "            img = t(img)\n",
    "        return img\n",
    "\n",
    "    def __repr__(self):\n",
    "        format_string = self.__class__.__name__ + '('\n",
    "        for t in self.transforms:\n",
    "            format_string += '\\n'\n",
    "            format_string += '    {0}'.format(t)\n",
    "        format_string += '\\n)'\n",
    "        return format_string\n",
    "```\n",
    "\n",
    "\n",
    "this function can convert some image by order within `__call__` method."
   ]
  },
  {
   "cell_type": "code",
   "execution_count": 7,
   "metadata": {
    "ExecuteTime": {
     "end_time": "2021-05-15T12:50:28.015725Z",
     "start_time": "2021-05-15T12:50:28.010158Z"
    }
   },
   "outputs": [],
   "source": [
    "class Flatten:\n",
    "    def __call__(self, pic):\n",
    "        return pic.flatten()\n",
    "\n",
    "    def __repr__(self):\n",
    "        return self.__class__.__name__ + \"()\""
   ]
  },
  {
   "cell_type": "code",
   "execution_count": 8,
   "metadata": {},
   "outputs": [
    {
     "data": {
      "image/png": "[encoded data removed]",
      "text/plain": [
       "<PIL.Image.Image image mode=L size=28x28>"
      ]
     },
     "execution_count": 8,
     "metadata": {},
     "output_type": "execute_result"
    }
   ],
   "source": [
    "data_train[0][0]"
   ]
  },
  {
   "cell_type": "code",
   "execution_count": 9,
   "metadata": {
    "ExecuteTime": {
     "end_time": "2021-05-15T12:54:57.352268Z",
     "start_time": "2021-05-15T12:54:57.347366Z"
    }
   },
   "outputs": [],
   "source": [
    "new_transform = torchvision.transforms.Compose([\n",
    "#     torchvision.transforms.CenterCrop(),\n",
    "#     torchvision.transforms.Resize((640, 460)),\n",
    "    torchvision.transforms.ToTensor(),\n",
    "    # Flatten(),\n",
    "])"
   ]
  },
  {
   "cell_type": "markdown",
   "metadata": {},
   "source": [
    "# Putting all together"
   ]
  },
  {
   "cell_type": "code",
   "execution_count": 10,
   "metadata": {
    "ExecuteTime": {
     "end_time": "2021-05-15T12:55:10.862374Z",
     "start_time": "2021-05-15T12:55:10.859472Z"
    }
   },
   "outputs": [],
   "source": [
    "import time\n",
    "\n",
    "from IPython.display import clear_output"
   ]
  },
  {
   "cell_type": "code",
   "execution_count": 11,
   "metadata": {
    "ExecuteTime": {
     "end_time": "2021-05-15T12:55:12.366758Z",
     "start_time": "2021-05-15T12:55:12.315596Z"
    }
   },
   "outputs": [
    {
     "data": {
      "text/plain": [
       "device(type='cpu')"
      ]
     },
     "execution_count": 11,
     "metadata": {},
     "output_type": "execute_result"
    }
   ],
   "source": [
    "# use GPU if available\n",
    "device = torch.device(\"cuda\") if torch.cuda.is_available() else torch.device(\"cpu\")\n",
    "device"
   ]
  },
  {
   "cell_type": "code",
   "execution_count": 12,
   "metadata": {
    "ExecuteTime": {
     "end_time": "2021-05-15T12:55:18.143638Z",
     "start_time": "2021-05-15T12:55:18.139717Z"
    }
   },
   "outputs": [],
   "source": [
    "def subset_ind(dataset, ratio: float):\n",
    "    #     return ### YOUR CODE HERE\n",
    "    return np.random.choice(len(dataset), size=int(ratio * len(dataset)), replace=False)"
   ]
  },
  {
   "cell_type": "code",
   "execution_count": 13,
   "metadata": {
    "ExecuteTime": {
     "end_time": "2021-05-15T13:26:30.886348Z",
     "start_time": "2021-05-15T13:26:28.905812Z"
    }
   },
   "outputs": [],
   "source": [
    "data_train = FashionMNIST(\n",
    "    \".\",\n",
    "    train=True,\n",
    "    transform=new_transform\n",
    ")\n",
    "data_test = FashionMNIST(\n",
    "    \".\",\n",
    "    train=False,\n",
    "    transform=new_transform\n",
    ")\n"
   ]
  },
  {
   "cell_type": "code",
   "execution_count": 14,
   "metadata": {
    "ExecuteTime": {
     "end_time": "2021-05-15T13:26:30.901762Z",
     "start_time": "2021-05-15T13:26:30.900015Z"
    }
   },
   "outputs": [],
   "source": [
    "batch_size = 32\n",
    "\n",
    "train_loader = DataLoader(data_train, batch_size=batch_size, shuffle=True)\n",
    "val_loader = DataLoader(data_test, batch_size=batch_size, shuffle=False)"
   ]
  },
  {
   "cell_type": "code",
   "execution_count": 15,
   "metadata": {
    "ExecuteTime": {
     "end_time": "2021-05-15T13:26:30.906730Z",
     "start_time": "2021-05-15T13:26:30.902606Z"
    }
   },
   "outputs": [
    {
     "name": "stdout",
     "output_type": "stream",
     "text": [
      "<class 'torch.utils.data.dataloader._SingleProcessDataLoaderIter'>\n",
      "images shape on batch size = torch.Size([32, 1, 28, 28])\n",
      "labels shape on batch size = torch.Size([32])\n"
     ]
    }
   ],
   "source": [
    "train_iter = iter(train_loader)\n",
    "print(type(train_iter))\n",
    "\n",
    "images, labels = next(train_iter)\n",
    "\n",
    "print(\"images shape on batch size = {}\".format(images.size()))\n",
    "print(\"labels shape on batch size = {}\".format(labels.size()))"
   ]
  },
  {
   "cell_type": "code",
   "execution_count": 16,
   "metadata": {
    "ExecuteTime": {
     "end_time": "2021-05-15T13:26:31.196795Z",
     "start_time": "2021-05-15T13:26:31.191358Z"
    }
   },
   "outputs": [],
   "source": [
    "loss_func = nn.CrossEntropyLoss()"
   ]
  },
  {
   "cell_type": "code",
   "execution_count": 17,
   "metadata": {
    "ExecuteTime": {
     "end_time": "2021-05-15T13:39:21.496016Z",
     "start_time": "2021-05-15T13:39:21.492008Z"
    }
   },
   "outputs": [],
   "source": [
    "default_dtype = torch.float32"
   ]
  },
  {
   "cell_type": "code",
   "execution_count": 18,
   "metadata": {
    "ExecuteTime": {
     "end_time": "2021-05-15T13:26:43.040207Z",
     "start_time": "2021-05-15T13:26:43.034595Z"
    }
   },
   "outputs": [],
   "source": [
    "# create network again just in case\n",
    "model = nn.Sequential(\n",
    "    nn.Conv2d(1, 4, 3),\n",
    "    nn.BatchNorm2d(4),\n",
    "    nn.ReLU(),\n",
    "    nn.Conv2d(4, 8, 3),\n",
    "    nn.BatchNorm2d(8),\n",
    "    nn.ReLU(),\n",
    "    nn.Conv2d(8, 16, 3),\n",
    "    nn.BatchNorm2d(16),\n",
    "    nn.ReLU(),\n",
    "    nn.AdaptiveMaxPool2d((1,1)),\n",
    "    nn.Conv2d(16, 10, 1),\n",
    "    nn.Flatten()\n",
    "\n",
    ")\n",
    "model.to(device, default_dtype)\n",
    "\n",
    "opt = torch.optim.Adam(model.parameters(), lr=1e-3)"
   ]
  },
  {
   "cell_type": "code",
   "execution_count": 19,
   "metadata": {},
   "outputs": [
    {
     "data": {
      "text/plain": [
       "torch.Size([1, 28, 28])"
      ]
     },
     "execution_count": 19,
     "metadata": {},
     "output_type": "execute_result"
    }
   ],
   "source": [
    "data_train[0][0].shape"
   ]
  },
  {
   "cell_type": "code",
   "execution_count": 20,
   "metadata": {},
   "outputs": [
    {
     "data": {
      "text/plain": [
       "torch.Size([32, 10])"
      ]
     },
     "execution_count": 20,
     "metadata": {},
     "output_type": "execute_result"
    }
   ],
   "source": [
    "model(images).shape"
   ]
  },
  {
   "cell_type": "code",
   "execution_count": 21,
   "metadata": {},
   "outputs": [],
   "source": [
    "from tqdm.auto import tqdm"
   ]
  },
  {
   "cell_type": "code",
   "execution_count": 22,
   "metadata": {},
   "outputs": [],
   "source": [
    "import time"
   ]
  },
  {
   "cell_type": "code",
   "execution_count": 27,
   "metadata": {
    "ExecuteTime": {
     "end_time": "2021-05-15T13:40:21.078316Z",
     "start_time": "2021-05-15T13:40:21.056750Z"
    }
   },
   "outputs": [],
   "source": [
    "def train_model(model, train_loader, val_loader, loss_fn, opt, n_epochs: int, device=device):\n",
    "    \"\"\"\n",
    "    model: нейросеть для обучения,\n",
    "    train_loader, val_loader: загрузчики данных\n",
    "    loss_fn: целевая метрика (которую будем оптимизировать)\n",
    "    opt: оптимизатор (обновляет веса нейросети)\n",
    "    n_epochs: кол-во эпох, полных проходов датасета\n",
    "    \"\"\"\n",
    "    train_loss = []\n",
    "    val_loss = []\n",
    "    train_accuracy = []\n",
    "    val_accuracy = []\n",
    "\n",
    "    for epoch in tqdm(range(n_epochs)):\n",
    "        ep_train_loss = []\n",
    "        ep_val_loss = []\n",
    "        ep_train_accuracy = []\n",
    "        ep_val_accuracy = []\n",
    "        start_time = time.time()\n",
    "\n",
    "        model.train(True)  # enable dropout / batch_norm training behavior\n",
    "        for X_batch, y_batch in train_loader:\n",
    "            # move data to target device\n",
    "            ### YOUR CODE HERE\n",
    "            X_batch, y_batch = X_batch.to(device), y_batch.to(device)\n",
    "\n",
    "            # train on batch: compute loss, calc grads, perform optimizer step and zero the grads\n",
    "            ### YOUR CODE HERE\n",
    "            preds = model(X_batch)\n",
    "            loss = loss_fn(preds, y_batch)\n",
    "            \n",
    "            opt.zero_grad()\n",
    "            loss.backward()\n",
    "\n",
    "            opt.step()\n",
    "            \n",
    "            ep_train_loss.append(loss.item())\n",
    "            y_pred = preds.max(-1)[1]  # YOUR CODE HERE\n",
    "            ep_train_accuracy.append((y_pred == y_batch).to(default_dtype).mean().item())  # YOUR CODE HERE\n",
    "\n",
    "        model.train(False)  # disable dropout / use averages for batch_norm\n",
    "        with torch.no_grad():\n",
    "            for X_batch, y_batch in val_loader:\n",
    "                # move data to target device\n",
    "                # YOUR CODE HERE\n",
    "                X_batch, y_batch = X_batch.to(device), y_batch.to(device)\n",
    "                \n",
    "                preds = model(X_batch)\n",
    "                loss = loss_fn(preds, y_batch)\n",
    "\n",
    "                # compute predictions\n",
    "                # YOUR CODE HERE\n",
    "                ep_val_loss.append(loss.item())  # YOUR CODE HERE\n",
    "                y_pred = preds.max(-1)[1]  # YOUR CODE HERE\n",
    "                ep_val_accuracy.append((y_pred == y_batch).to(default_dtype).mean().item())  # YOUR CODE HERE\n",
    "\n",
    "        # print the results for this epoch:\n",
    "        print(f\"Epoch {epoch + 1} of {n_epochs} took {time.time() - start_time:.3f}s\")\n",
    "\n",
    "        train_loss.append(np.mean(ep_train_loss))\n",
    "        val_loss.append(np.mean(ep_val_loss))\n",
    "        train_accuracy.append(np.mean(ep_train_accuracy))\n",
    "        val_accuracy.append(np.mean(ep_val_accuracy))\n",
    "\n",
    "        # print(f\"\\t  training loss: {train_loss[-1]:.6f}\")\n",
    "        # print(f\"\\tvalidation loss: {val_loss[-1]:.6f}\")\n",
    "        # print(f\"\\tvalidation accuracy: {val_accuracy[-1]:.3f}\")\n",
    "\n",
    "    return model, opt, train_loss, val_loss, train_accuracy, val_accuracy"
   ]
  },
  {
   "cell_type": "code",
   "execution_count": 28,
   "metadata": {
    "ExecuteTime": {
     "end_time": "2021-05-15T13:40:24.480182Z",
     "start_time": "2021-05-15T13:40:21.530351Z"
    },
    "scrolled": true
   },
   "outputs": [
    {
     "data": {
      "application/vnd.jupyter.widget-view+json": {
       "model_id": "d0846c28b82c42629aae73f947d4f394",
       "version_major": 2,
       "version_minor": 0
      },
      "text/plain": [
       "  0%|          | 0/10 [00:00<?, ?it/s]"
      ]
     },
     "metadata": {},
     "output_type": "display_data"
    },
    {
     "name": "stdout",
     "output_type": "stream",
     "text": [
      "Epoch 1 of 10 took 38.544s\n",
      "Epoch 2 of 10 took 38.496s\n",
      "Epoch 3 of 10 took 36.251s\n",
      "Epoch 4 of 10 took 36.664s\n",
      "Epoch 5 of 10 took 36.362s\n",
      "Epoch 6 of 10 took 36.547s\n",
      "Epoch 7 of 10 took 36.611s\n",
      "Epoch 8 of 10 took 36.375s\n",
      "Epoch 9 of 10 took 36.125s\n",
      "Epoch 10 of 10 took 36.318s\n"
     ]
    }
   ],
   "source": [
    "n_epochs = 10\n",
    "\n",
    "model, opt, train_loss, val_loss, train_accuracy, val_accuracy = train_model(\n",
    "    model, train_loader, val_loader, loss_func, opt, 10\n",
    ")"
   ]
  },
  {
   "cell_type": "code",
   "execution_count": 30,
   "metadata": {
    "ExecuteTime": {
     "end_time": "2021-05-15T13:40:27.838414Z",
     "start_time": "2021-05-15T13:40:27.828749Z"
    }
   },
   "outputs": [],
   "source": [
    "def plot_train_process(train_loss, val_loss, train_accuracy, val_accuracy):\n",
    "    fig, axes = plt.subplots(1, 2, figsize=(15, 5))\n",
    "\n",
    "    axes[0].set_title(\"Loss\")\n",
    "    axes[0].plot(train_loss, label=\"train\")\n",
    "    axes[0].plot(val_loss, label=\"validation\")\n",
    "    axes[0].legend()\n",
    "\n",
    "    axes[1].set_title(\"Validation accuracy\")\n",
    "    axes[1].plot(train_accuracy, label=\"train\")\n",
    "    axes[1].plot(val_accuracy, label=\"validation\")\n",
    "    axes[1].legend()"
   ]
  },
  {
   "cell_type": "code",
   "execution_count": 31,
   "metadata": {},
   "outputs": [
    {
     "data": {
      "image/png": "[encoded data removed]",
      "text/plain": [
       "<Figure size 1500x500 with 2 Axes>"
      ]
     },
     "metadata": {},
     "output_type": "display_data"
    }
   ],
   "source": [
    "plot_train_process(train_loss, val_loss, train_accuracy, val_accuracy)"
   ]
  },
  {
   "cell_type": "code",
   "execution_count": 62,
   "metadata": {
    "ExecuteTime": {
     "end_time": "2021-05-15T13:40:30.092123Z",
     "start_time": "2021-05-15T13:40:29.940637Z"
    }
   },
   "outputs": [
    {
     "data": {
      "image/png": "[encoded data removed]",
      "text/plain": [
       "<Figure size 1500x500 with 2 Axes>"
      ]
     },
     "metadata": {},
     "output_type": "display_data"
    }
   ],
   "source": [
    "plot_train_process(train_loss, val_loss, train_accuracy, val_accuracy)"
   ]
  },
  {
   "cell_type": "code",
   "execution_count": 32,
   "metadata": {},
   "outputs": [],
   "source": [
    "import torchsummary"
   ]
  },
  {
   "cell_type": "code",
   "execution_count": 34,
   "metadata": {},
   "outputs": [
    {
     "name": "stdout",
     "output_type": "stream",
     "text": [
      "----------------------------------------------------------------\n",
      "        Layer (type)               Output Shape         Param #\n",
      "================================================================\n",
      "            Conv2d-1            [-1, 4, 30, 30]              40\n",
      "       BatchNorm2d-2            [-1, 4, 30, 30]               8\n",
      "              ReLU-3            [-1, 4, 30, 30]               0\n",
      "            Conv2d-4            [-1, 8, 28, 28]             296\n",
      "       BatchNorm2d-5            [-1, 8, 28, 28]              16\n",
      "              ReLU-6            [-1, 8, 28, 28]               0\n",
      "            Conv2d-7           [-1, 16, 26, 26]           1,168\n",
      "       BatchNorm2d-8           [-1, 16, 26, 26]              32\n",
      "              ReLU-9           [-1, 16, 26, 26]               0\n",
      "AdaptiveMaxPool2d-10             [-1, 16, 1, 1]               0\n",
      "           Conv2d-11             [-1, 10, 1, 1]             170\n",
      "          Flatten-12                   [-1, 10]               0\n",
      "================================================================\n",
      "Total params: 1,730\n",
      "Trainable params: 1,730\n",
      "Non-trainable params: 0\n",
      "----------------------------------------------------------------\n",
      "Input size (MB): 0.00\n",
      "Forward/backward pass size (MB): 0.47\n",
      "Params size (MB): 0.01\n",
      "Estimated Total Size (MB): 0.48\n",
      "----------------------------------------------------------------\n"
     ]
    }
   ],
   "source": [
    "torchsummary.summary(model, (1, 32, 32))"
   ]
  },
  {
   "cell_type": "markdown",
   "metadata": {},
   "source": [
    "## Real network"
   ]
  },
  {
   "cell_type": "code",
   "execution_count": 106,
   "metadata": {
    "ExecuteTime": {
     "end_time": "2021-05-15T13:41:24.634646Z",
     "start_time": "2021-05-15T13:41:24.607929Z"
    }
   },
   "outputs": [],
   "source": [
    "# create network again just in case\n",
    "model = nn.Sequential(\n",
    "    nn.Linear(784, 500),\n",
    "    nn.ReLU(),\n",
    "    nn.Linear(500, 200),\n",
    "    nn.ReLU(),\n",
    "    nn.Linear(200, 10),\n",
    "    nn.Sigmoid(),\n",
    ")\n",
    "model.to(device, torch.float32)\n",
    "\n",
    "opt = torch.optim.Adam(model.parameters(), lr=1e-3)"
   ]
  },
  {
   "cell_type": "code",
   "execution_count": 107,
   "metadata": {
    "ExecuteTime": {
     "end_time": "2021-05-15T13:41:29.863664Z",
     "start_time": "2021-05-15T13:41:25.386811Z"
    },
    "scrolled": true
   },
   "outputs": [
    {
     "name": "stdout",
     "output_type": "stream",
     "text": [
      "Epoch 1 of 30 took 0.156s\n",
      "\t  training loss: 1.707134\n",
      "\tvalidation loss: 1.609330\n",
      "\tvalidation accuracy: 0.745\n",
      "Epoch 2 of 30 took 0.145s\n",
      "\t  training loss: 1.587000\n",
      "\tvalidation loss: 1.590280\n",
      "\tvalidation accuracy: 0.834\n",
      "Epoch 3 of 30 took 0.146s\n",
      "\t  training loss: 1.552098\n",
      "\tvalidation loss: 1.567466\n",
      "\tvalidation accuracy: 0.890\n",
      "Epoch 4 of 30 took 0.148s\n",
      "\t  training loss: 1.533718\n",
      "\tvalidation loss: 1.564371\n",
      "\tvalidation accuracy: 0.891\n",
      "Epoch 5 of 30 took 0.147s\n",
      "\t  training loss: 1.524915\n",
      "\tvalidation loss: 1.564182\n",
      "\tvalidation accuracy: 0.880\n",
      "Epoch 6 of 30 took 0.146s\n",
      "\t  training loss: 1.518591\n",
      "\tvalidation loss: 1.560097\n",
      "\tvalidation accuracy: 0.892\n",
      "Epoch 7 of 30 took 0.147s\n",
      "\t  training loss: 1.512614\n",
      "\tvalidation loss: 1.576296\n",
      "\tvalidation accuracy: 0.877\n",
      "Epoch 8 of 30 took 0.148s\n",
      "\t  training loss: 1.509178\n",
      "\tvalidation loss: 1.558644\n",
      "\tvalidation accuracy: 0.892\n",
      "Epoch 9 of 30 took 0.147s\n",
      "\t  training loss: 1.510325\n",
      "\tvalidation loss: 1.560573\n",
      "\tvalidation accuracy: 0.894\n",
      "Epoch 10 of 30 took 0.149s\n",
      "\t  training loss: 1.507704\n",
      "\tvalidation loss: 1.559215\n",
      "\tvalidation accuracy: 0.891\n",
      "Epoch 11 of 30 took 0.153s\n",
      "\t  training loss: 1.509577\n",
      "\tvalidation loss: 1.563557\n",
      "\tvalidation accuracy: 0.882\n",
      "Epoch 12 of 30 took 0.150s\n",
      "\t  training loss: 1.512266\n",
      "\tvalidation loss: 1.567826\n",
      "\tvalidation accuracy: 0.882\n",
      "Epoch 13 of 30 took 0.150s\n",
      "\t  training loss: 1.504148\n",
      "\tvalidation loss: 1.561387\n",
      "\tvalidation accuracy: 0.895\n",
      "Epoch 14 of 30 took 0.154s\n",
      "\t  training loss: 1.508341\n",
      "\tvalidation loss: 1.568895\n",
      "\tvalidation accuracy: 0.875\n",
      "Epoch 15 of 30 took 0.150s\n",
      "\t  training loss: 1.504346\n",
      "\tvalidation loss: 1.561438\n",
      "\tvalidation accuracy: 0.896\n",
      "Epoch 16 of 30 took 0.151s\n",
      "\t  training loss: 1.503991\n",
      "\tvalidation loss: 1.558606\n",
      "\tvalidation accuracy: 0.900\n",
      "Epoch 17 of 30 took 0.153s\n",
      "\t  training loss: 1.500136\n",
      "\tvalidation loss: 1.569825\n",
      "\tvalidation accuracy: 0.884\n",
      "Epoch 18 of 30 took 0.151s\n",
      "\t  training loss: 1.503079\n",
      "\tvalidation loss: 1.565544\n",
      "\tvalidation accuracy: 0.885\n",
      "Epoch 19 of 30 took 0.149s\n",
      "\t  training loss: 1.505768\n",
      "\tvalidation loss: 1.561765\n",
      "\tvalidation accuracy: 0.889\n",
      "Epoch 20 of 30 took 0.145s\n",
      "\t  training loss: 1.502888\n",
      "\tvalidation loss: 1.569882\n",
      "\tvalidation accuracy: 0.888\n",
      "Epoch 21 of 30 took 0.153s\n",
      "\t  training loss: 1.500985\n",
      "\tvalidation loss: 1.572118\n",
      "\tvalidation accuracy: 0.884\n",
      "Epoch 22 of 30 took 0.149s\n",
      "\t  training loss: 1.503093\n",
      "\tvalidation loss: 1.570127\n",
      "\tvalidation accuracy: 0.882\n",
      "Epoch 23 of 30 took 0.150s\n",
      "\t  training loss: 1.506277\n",
      "\tvalidation loss: 1.574313\n",
      "\tvalidation accuracy: 0.881\n",
      "Epoch 24 of 30 took 0.150s\n",
      "\t  training loss: 1.504131\n",
      "\tvalidation loss: 1.557148\n",
      "\tvalidation accuracy: 0.895\n",
      "Epoch 25 of 30 took 0.146s\n",
      "\t  training loss: 1.502783\n",
      "\tvalidation loss: 1.562866\n",
      "\tvalidation accuracy: 0.897\n",
      "Epoch 26 of 30 took 0.147s\n",
      "\t  training loss: 1.497786\n",
      "\tvalidation loss: 1.560211\n",
      "\tvalidation accuracy: 0.896\n",
      "Epoch 27 of 30 took 0.148s\n",
      "\t  training loss: 1.501720\n",
      "\tvalidation loss: 1.566514\n",
      "\tvalidation accuracy: 0.887\n",
      "Epoch 28 of 30 took 0.151s\n",
      "\t  training loss: 1.501803\n",
      "\tvalidation loss: 1.566738\n",
      "\tvalidation accuracy: 0.891\n",
      "Epoch 29 of 30 took 0.145s\n",
      "\t  training loss: 1.514530\n",
      "\tvalidation loss: 1.574459\n",
      "\tvalidation accuracy: 0.866\n",
      "Epoch 30 of 30 took 0.146s\n",
      "\t  training loss: 1.505026\n",
      "\tvalidation loss: 1.569972\n",
      "\tvalidation accuracy: 0.883\n"
     ]
    }
   ],
   "source": [
    "n_epochs = 30\n",
    "\n",
    "train_loss, val_loss, val_accuracy = train_model(\n",
    "    model, train_loader, val_loader, loss_func, opt, n_epochs\n",
    ")"
   ]
  },
  {
   "cell_type": "code",
   "execution_count": 108,
   "metadata": {
    "ExecuteTime": {
     "end_time": "2021-05-15T13:41:31.488836Z",
     "start_time": "2021-05-15T13:41:31.301761Z"
    }
   },
   "outputs": [
    {
     "data": {
      "image/png": "[encoded data removed]",
      "text/plain": [
       "<Figure size 1080x360 with 2 Axes>"
      ]
     },
     "metadata": {
      "needs_background": "light"
     },
     "output_type": "display_data"
    }
   ],
   "source": [
    "plot_train_process(train_loss, val_loss, val_accuracy)"
   ]
  },
  {
   "cell_type": "code",
   "execution_count": 109,
   "metadata": {
    "ExecuteTime": {
     "end_time": "2021-05-15T13:42:16.482260Z",
     "start_time": "2021-05-15T13:42:16.472078Z"
    }
   },
   "outputs": [],
   "source": [
    "import torchsummary"
   ]
  },
  {
   "cell_type": "code",
   "execution_count": 111,
   "metadata": {
    "ExecuteTime": {
     "end_time": "2021-05-15T13:42:36.103157Z",
     "start_time": "2021-05-15T13:42:36.100645Z"
    }
   },
   "outputs": [
    {
     "data": {
      "text/plain": [
       "784"
      ]
     },
     "execution_count": 111,
     "metadata": {},
     "output_type": "execute_result"
    }
   ],
   "source": [
    "28**2"
   ]
  },
  {
   "cell_type": "code",
   "execution_count": 115,
   "metadata": {
    "ExecuteTime": {
     "end_time": "2021-05-15T13:43:04.059733Z",
     "start_time": "2021-05-15T13:43:04.030038Z"
    }
   },
   "outputs": [
    {
     "name": "stdout",
     "output_type": "stream",
     "text": [
      "----------------------------------------------------------------\n",
      "        Layer (type)               Output Shape         Param #\n",
      "================================================================\n",
      "            Linear-1                  [-1, 500]         392,500\n",
      "              ReLU-2                  [-1, 500]               0\n",
      "            Linear-3                  [-1, 200]         100,200\n",
      "              ReLU-4                  [-1, 200]               0\n",
      "            Linear-5                   [-1, 10]           2,010\n",
      "           Sigmoid-6                   [-1, 10]               0\n",
      "================================================================\n",
      "Total params: 494,710\n",
      "Trainable params: 494,710\n",
      "Non-trainable params: 0\n",
      "----------------------------------------------------------------\n",
      "Input size (MB): 0.00\n",
      "Forward/backward pass size (MB): 0.01\n",
      "Params size (MB): 1.89\n",
      "Estimated Total Size (MB): 1.90\n",
      "----------------------------------------------------------------\n"
     ]
    }
   ],
   "source": [
    "torchsummary.summary(model, (784,))"
   ]
  },
  {
   "cell_type": "markdown",
   "metadata": {},
   "source": [
    "## Overfit!!!"
   ]
  },
  {
   "cell_type": "code",
   "execution_count": 201,
   "metadata": {
    "ExecuteTime": {
     "end_time": "2020-02-28T10:03:53.482972Z",
     "start_time": "2020-02-28T10:03:53.472190Z"
    }
   },
   "outputs": [],
   "source": [
    "# create network again just in case\n",
    "model = nn.Sequential(\n",
    "    nn.Linear(784, 600),\n",
    "    nn.ReLU(),\n",
    "    nn.Linear(600, 500),\n",
    "    nn.ReLU(),\n",
    "    nn.Linear(500, 400),\n",
    "    nn.ReLU(),\n",
    "    nn.Linear(500, 200),\n",
    "    nn.ReLU(),\n",
    "    nn.Linear(200, 10),\n",
    "    nn.Sigmoid(),\n",
    ")\n",
    "model.to(device, torch.float32)\n",
    "\n",
    "opt = torch.optim.Adam(model.parameters(), lr=1e-3)"
   ]
  },
  {
   "cell_type": "code",
   "execution_count": 202,
   "metadata": {
    "ExecuteTime": {
     "end_time": "2020-02-28T10:04:11.834052Z",
     "start_time": "2020-02-28T10:03:55.005294Z"
    },
    "scrolled": true
   },
   "outputs": [
    {
     "name": "stdout",
     "output_type": "stream",
     "text": [
      "Epoch 1 of 30 took 0.494s\n",
      "\t  training loss: 2.134934\n",
      "\tvalidation loss: 2.014964\n",
      "\tvalidation accuracy: 0.178\n",
      "Epoch 2 of 30 took 0.499s\n",
      "\t  training loss: 2.045046\n",
      "\tvalidation loss: 2.026333\n",
      "\tvalidation accuracy: 0.172\n",
      "Epoch 3 of 30 took 0.491s\n",
      "\t  training loss: 2.016687\n",
      "\tvalidation loss: 1.994847\n",
      "\tvalidation accuracy: 0.189\n",
      "Epoch 4 of 30 took 0.460s\n",
      "\t  training loss: 1.986748\n",
      "\tvalidation loss: 1.983032\n",
      "\tvalidation accuracy: 0.219\n",
      "Epoch 5 of 30 took 0.463s\n",
      "\t  training loss: 2.081405\n",
      "\tvalidation loss: 2.143732\n",
      "\tvalidation accuracy: 0.175\n",
      "Epoch 6 of 30 took 0.457s\n",
      "\t  training loss: 2.112326\n",
      "\tvalidation loss: 2.127975\n",
      "\tvalidation accuracy: 0.190\n",
      "Epoch 7 of 30 took 0.502s\n",
      "\t  training loss: 2.108410\n",
      "\tvalidation loss: 2.114670\n",
      "\tvalidation accuracy: 0.188\n",
      "Epoch 8 of 30 took 0.487s\n",
      "\t  training loss: 2.019658\n",
      "\tvalidation loss: 1.881535\n",
      "\tvalidation accuracy: 0.300\n",
      "Epoch 9 of 30 took 0.514s\n",
      "\t  training loss: 1.957081\n",
      "\tvalidation loss: 1.979256\n",
      "\tvalidation accuracy: 0.238\n",
      "Epoch 10 of 30 took 0.539s\n",
      "\t  training loss: 1.982647\n",
      "\tvalidation loss: 1.933315\n",
      "\tvalidation accuracy: 0.257\n",
      "Epoch 11 of 30 took 0.614s\n",
      "\t  training loss: 1.964385\n",
      "\tvalidation loss: 1.937410\n",
      "\tvalidation accuracy: 0.248\n",
      "Epoch 12 of 30 took 0.610s\n",
      "\t  training loss: 1.984771\n",
      "\tvalidation loss: 2.146827\n",
      "\tvalidation accuracy: 0.220\n",
      "Epoch 13 of 30 took 0.739s\n",
      "\t  training loss: 2.029065\n",
      "\tvalidation loss: 1.994660\n",
      "\tvalidation accuracy: 0.273\n",
      "Epoch 14 of 30 took 0.643s\n",
      "\t  training loss: 1.973969\n",
      "\tvalidation loss: 1.959293\n",
      "\tvalidation accuracy: 0.281\n",
      "Epoch 15 of 30 took 0.649s\n",
      "\t  training loss: 1.955489\n",
      "\tvalidation loss: 1.945707\n",
      "\tvalidation accuracy: 0.277\n",
      "Epoch 16 of 30 took 0.668s\n",
      "\t  training loss: 1.954583\n",
      "\tvalidation loss: 1.956783\n",
      "\tvalidation accuracy: 0.275\n",
      "Epoch 17 of 30 took 0.559s\n",
      "\t  training loss: 1.966763\n",
      "\tvalidation loss: 1.944769\n",
      "\tvalidation accuracy: 0.275\n",
      "Epoch 18 of 30 took 0.567s\n",
      "\t  training loss: 1.969647\n",
      "\tvalidation loss: 1.962724\n",
      "\tvalidation accuracy: 0.276\n",
      "Epoch 19 of 30 took 0.647s\n",
      "\t  training loss: 1.971436\n",
      "\tvalidation loss: 1.966927\n",
      "\tvalidation accuracy: 0.267\n",
      "Epoch 20 of 30 took 0.673s\n",
      "\t  training loss: 2.062481\n",
      "\tvalidation loss: 2.178926\n",
      "\tvalidation accuracy: 0.187\n",
      "Epoch 21 of 30 took 0.579s\n",
      "\t  training loss: 2.189293\n",
      "\tvalidation loss: 2.190487\n",
      "\tvalidation accuracy: 0.189\n",
      "Epoch 22 of 30 took 0.550s\n",
      "\t  training loss: 2.192861\n",
      "\tvalidation loss: 2.190635\n",
      "\tvalidation accuracy: 0.215\n",
      "Epoch 23 of 30 took 0.561s\n",
      "\t  training loss: 2.193099\n",
      "\tvalidation loss: 2.187010\n",
      "\tvalidation accuracy: 0.188\n",
      "Epoch 24 of 30 took 0.555s\n",
      "\t  training loss: 2.128141\n",
      "\tvalidation loss: 2.022125\n",
      "\tvalidation accuracy: 0.232\n",
      "Epoch 25 of 30 took 0.562s\n",
      "\t  training loss: 1.990939\n",
      "\tvalidation loss: 2.009585\n",
      "\tvalidation accuracy: 0.261\n",
      "Epoch 26 of 30 took 0.540s\n",
      "\t  training loss: 2.033160\n",
      "\tvalidation loss: 2.032150\n",
      "\tvalidation accuracy: 0.276\n",
      "Epoch 27 of 30 took 0.537s\n",
      "\t  training loss: 2.014010\n",
      "\tvalidation loss: 2.050593\n",
      "\tvalidation accuracy: 0.187\n",
      "Epoch 28 of 30 took 0.536s\n",
      "\t  training loss: 2.043722\n",
      "\tvalidation loss: 2.020412\n",
      "\tvalidation accuracy: 0.191\n",
      "Epoch 29 of 30 took 0.559s\n",
      "\t  training loss: 2.026765\n",
      "\tvalidation loss: 2.011748\n",
      "\tvalidation accuracy: 0.198\n",
      "Epoch 30 of 30 took 0.562s\n",
      "\t  training loss: 2.025368\n",
      "\tvalidation loss: 2.010757\n",
      "\tvalidation accuracy: 0.204\n"
     ]
    }
   ],
   "source": [
    "n_epochs = 30\n",
    "\n",
    "train_loss, val_loss, val_accuracy = train_model(\n",
    "    model, train_loader, val_loader, loss_func, opt, n_epochs\n",
    ")"
   ]
  },
  {
   "cell_type": "code",
   "execution_count": 203,
   "metadata": {
    "ExecuteTime": {
     "end_time": "2020-02-28T10:10:20.888744Z",
     "start_time": "2020-02-28T10:10:20.487942Z"
    }
   },
   "outputs": [
    {
     "data": {
      "image/png": "[encoded data removed]",
      "text/plain": [
       "<Figure size 1080x360 with 2 Axes>"
      ]
     },
     "metadata": {
      "needs_background": "light"
     },
     "output_type": "display_data"
    }
   ],
   "source": [
    "plot_train_process(train_loss, val_loss, val_accuracy)"
   ]
  },
  {
   "cell_type": "markdown",
   "metadata": {},
   "source": [
    "## Your turn\n",
    "Try to add some additional transformations (e.g. random crop, rotation etc.) and train your model!"
   ]
  },
  {
   "cell_type": "markdown",
   "metadata": {},
   "source": [
    "### Dropout try"
   ]
  },
  {
   "cell_type": "code",
   "execution_count": null,
   "metadata": {},
   "outputs": [],
   "source": []
  },
  {
   "cell_type": "markdown",
   "metadata": {},
   "source": [
    "### Batchnorm try"
   ]
  },
  {
   "cell_type": "code",
   "execution_count": null,
   "metadata": {},
   "outputs": [],
   "source": []
  },
  {
   "cell_type": "markdown",
   "metadata": {},
   "source": [
    "### 3. Save the model (model checkpointing)\n",
    "\n",
    "Now we have trained a model! Obviously we do not want to retrain the model everytime we want to use it. Plus if you are training a super big model, you probably want to save checkpoint periodically so that you can always fall back to the last checkpoint in case something bad happened or you simply want to test models at different training iterations.\n",
    "\n",
    "Model checkpointing is fairly simple in PyTorch. First, we define a helper function that can save a model to the disk"
   ]
  },
  {
   "cell_type": "code",
   "execution_count": null,
   "metadata": {},
   "outputs": [],
   "source": [
    "def save_checkpoint(checkpoint_path, model, optimizer):\n",
    "    # state_dict: a Python dictionary object that:\n",
    "    # - for a model, maps each layer to its parameter tensor;\n",
    "    # - for an optimizer, contains info about the optimizer’s states and hyperparameters used.\n",
    "    state = {\"state_dict\": model.state_dict(), \"optimizer\": optimizer.state_dict()}\n",
    "    torch.save(state, checkpoint_path)\n",
    "    print(\"model saved to %s\" % checkpoint_path)\n",
    "\n",
    "\n",
    "def load_checkpoint(checkpoint_path, model, optimizer):\n",
    "    state = torch.load(checkpoint_path)\n",
    "    model.load_state_dict(state[\"state_dict\"])\n",
    "    optimizer.load_state_dict(state[\"optimizer\"])\n",
    "    print(\"model loaded from %s\" % checkpoint_path)"
   ]
  },
  {
   "cell_type": "code",
   "execution_count": null,
   "metadata": {},
   "outputs": [],
   "source": [
    "# create a brand new model\n",
    "model = Net().to(device)\n",
    "optimizer = optim.SGD(model.parameters(), lr=0.001, momentum=0.9)\n",
    "# Testing -- you should get a pretty poor performance since the model hasn't learned anything yet.\n",
    "test()"
   ]
  },
  {
   "cell_type": "markdown",
   "metadata": {},
   "source": [
    "#### Define a training loop with model checkpointing"
   ]
  },
  {
   "cell_type": "code",
   "execution_count": null,
   "metadata": {},
   "outputs": [],
   "source": [
    "def train_save(epoch, save_interval, log_interval=100):\n",
    "    model.train()  # set training mode\n",
    "    iteration = 0\n",
    "    for ep in range(epoch):\n",
    "        for batch_idx, (data, target) in enumerate(trainset_loader):\n",
    "            data, target = data.to(device), target.to(device)\n",
    "            optimizer.zero_grad()\n",
    "            output = model(data)\n",
    "            loss = F.nll_loss(output, target)\n",
    "            loss.backward()\n",
    "            optimizer.step()\n",
    "            if iteration % log_interval == 0:\n",
    "                print(\n",
    "                    \"Train Epoch: {} [{}/{} ({:.0f}%)]\\tLoss: {:.6f}\".format(\n",
    "                        ep,\n",
    "                        batch_idx * len(data),\n",
    "                        len(trainset_loader.dataset),\n",
    "                        100.0 * batch_idx / len(trainset_loader),\n",
    "                        loss.item(),\n",
    "                    )\n",
    "                )\n",
    "            # different from before: saving model checkpoints\n",
    "            if iteration % save_interval == 0 and iteration > 0:\n",
    "                save_checkpoint(\"mnist-%i.pth\" % iteration, model, optimizer)\n",
    "            iteration += 1\n",
    "        test()\n",
    "\n",
    "    # save the final model\n",
    "    save_checkpoint(\"mnist-%i.pth\" % iteration, model, optimizer)"
   ]
  },
  {
   "cell_type": "code",
   "execution_count": null,
   "metadata": {},
   "outputs": [],
   "source": [
    "train_save(5, save_interval=500, log_interval=100)"
   ]
  },
  {
   "cell_type": "code",
   "execution_count": null,
   "metadata": {},
   "outputs": [],
   "source": [
    "# create a new model\n",
    "model = Net().to(device)\n",
    "optimizer = optim.SGD(model.parameters(), lr=0.001, momentum=0.9)\n",
    "# load from the final checkpoint\n",
    "load_checkpoint(\"mnist-4690.pth\", model, optimizer)\n",
    "# should give you the final model accuracy\n",
    "test()"
   ]
  },
  {
   "cell_type": "markdown",
   "metadata": {},
   "source": [
    "```\n",
    "\n",
    "```\n",
    "\n",
    "```\n",
    "\n",
    "```\n",
    "\n",
    "```\n",
    "\n",
    "```\n",
    "\n",
    "```\n",
    "\n",
    "```\n",
    "\n",
    "```\n",
    "\n",
    "```\n",
    "### More about pytorch:\n",
    "* Using torch on GPU and multi-GPU - [link](http://pytorch.org/docs/master/notes/cuda.html)\n",
    "* More tutorials on pytorch - [link](http://pytorch.org/tutorials/beginner/deep_learning_60min_blitz.html)\n",
    "* Pytorch examples - a repo that implements many cool DL models in pytorch - [link](https://github.com/pytorch/examples)\n",
    "* Practical pytorch - a repo that implements some... other cool DL models... yes, in pytorch - [link](https://github.com/spro/practical-pytorch)\n",
    "* And some more - [link](https://www.reddit.com/r/pytorch/comments/6z0yeo/pytorch_and_pytorch_tricks_for_kaggle/)"
   ]
  }
 ],
 "metadata": {
  "kernelspec": {
   "display_name": "py3_research",
   "language": "python",
   "name": "python3"
  },
  "language_info": {
   "codemirror_mode": {
    "name": "ipython",
    "version": 3
   },
   "file_extension": ".py",
   "mimetype": "text/x-python",
   "name": "python",
   "nbconvert_exporter": "python",
   "pygments_lexer": "ipython3",
   "version": "3.9.16"
  },
  "toc": {
   "base_numbering": 1,
   "nav_menu": {},
   "number_sections": true,
   "sideBar": true,
   "skip_h1_title": false,
   "title_cell": "Table of Contents",
   "title_sidebar": "Contents",
   "toc_cell": false,
   "toc_position": {},
   "toc_section_display": true,
   "toc_window_display": true
  }
 },
 "nbformat": 4,
 "nbformat_minor": 2
}
