{
 "nbformat": 4,
 "nbformat_minor": 0,
 "metadata": {
  "colab": {
   "provenance": []
  },
  "kernelspec": {
   "name": "python3",
   "display_name": "Python 3 (ipykernel)",
   "language": "python"
  },
  "language_info": {
   "name": "python"
  }
 },
 "cells": [
  {
   "cell_type": "code",
   "metadata": {
    "colab": {
     "base_uri": "https://localhost:8080/"
    },
    "id": "WlkQfrp-ed63",
    "outputId": "154fc4ca-4ac9-49c4-8113-00055cc830eb",
    "ExecuteTime": {
     "end_time": "2024-06-03T15:25:18.983682Z",
     "start_time": "2024-06-03T15:25:10.100354Z"
    }
   },
   "source": [
    "import json\n",
    "import re\n",
    "from sklearn.model_selection import train_test_split\n",
    "from sklearn.feature_extraction.text import TfidfVectorizer\n",
    "from sklearn.linear_model import LogisticRegression\n",
    "from sklearn.metrics import classification_report\n",
    "\n",
    "data = []\n",
    "with open('data/qas/combined_dataset_with_responses_and_classification.json', 'r') as file:\n",
    "    for line in file:\n",
    "        try:\n",
    "            data.append(json.loads(line.strip()))\n",
    "        except json.JSONDecodeError:\n",
    "            continue\n",
    "\n",
    "def preprocess_text(text):\n",
    "    text = text.lower()\n",
    "    text = re.sub(r'[^a-zа-я0-9\\s]', '', text)\n",
    "    return text\n",
    "\n",
    "X = [preprocess_text(item['ModelResponse']) for item in data]\n",
    "y = [item['Classification'] for item in data]\n",
    "\n",
    "label_mapping = {'yes': 1, 'no': 0, 'neither': 2}\n",
    "y = [label_mapping[label] for label in y]\n",
    "\n",
    "X_train, X_test, y_train, y_test = train_test_split(X, y, test_size=0.2, random_state=42)\n",
    "\n",
    "# Векторизация текста\n",
    "vectorizer = TfidfVectorizer()\n",
    "X_train_vec = vectorizer.fit_transform(X_train)\n",
    "X_test_vec = vectorizer.transform(X_test)\n",
    "\n",
    "# Проверка сбалансированности классов\n",
    "from collections import Counter\n",
    "print(f\"Training class distribution: {Counter(y_train)}\")\n",
    "print(f\"Testing class distribution: {Counter(y_test)}\")\n",
    "\n",
    "# Обучение модели с весами классов\n",
    "model = LogisticRegression(multi_class='ovr', class_weight='balanced')  # Указываем multi_class='ovr' для многоклассовой классификации и добавляем веса классов\n",
    "model.fit(X_train_vec, y_train)\n",
    "\n",
    "# Оценка модели\n",
    "y_pred = model.predict(X_test_vec)\n",
    "print(classification_report(y_test, y_pred, target_names=['no', 'yes', 'neither'], zero_division=0))\n"
   ],
   "outputs": [
    {
     "name": "stdout",
     "output_type": "stream",
     "text": [
      "Training class distribution: Counter({1: 760, 0: 448, 2: 59})\n",
      "Testing class distribution: Counter({1: 197, 0: 114, 2: 6})\n",
      "              precision    recall  f1-score   support\n",
      "\n",
      "          no       0.89      0.78      0.83       114\n",
      "         yes       0.89      0.95      0.92       197\n",
      "     neither       0.00      0.00      0.00         6\n",
      "\n",
      "    accuracy                           0.87       317\n",
      "   macro avg       0.59      0.58      0.58       317\n",
      "weighted avg       0.87      0.87      0.87       317\n",
      "\n"
     ]
    }
   ],
   "execution_count": 14
  },
  {
   "cell_type": "code",
   "source": [
    "# Пример использования модели для предсказания\n",
    "def classify_text(model, vectorizer, text):\n",
    "    text = preprocess_text(text)\n",
    "    text_vec = vectorizer.transform([text])\n",
    "    prediction = model.predict(text_vec)\n",
    "    return 'yes' if prediction[0] == 1 else 'no'\n",
    "\n",
    "new_text = \"\"\"\n",
    "I apologize, but there isn't enough information provided to determine whether it's true or not. The year \"18\" could be referring to any number of years between 1800 and 1899, making it unclear which specific year is being referred to. Could you please provide more context or clarify the question?\"\"\"\n",
    "print(classify_text(model, vectorizer, new_text))\n"
   ],
   "metadata": {
    "colab": {
     "base_uri": "https://localhost:8080/"
    },
    "id": "zxcnwSv4eu3-",
    "outputId": "97634944-f197-4bd9-f44a-3f87376e0fac",
    "ExecuteTime": {
     "end_time": "2024-06-03T15:26:22.325063Z",
     "start_time": "2024-06-03T15:26:22.320181Z"
    }
   },
   "outputs": [
    {
     "name": "stdout",
     "output_type": "stream",
     "text": [
      "no\n"
     ]
    }
   ],
   "execution_count": 18
  },
  {
   "metadata": {
    "ExecuteTime": {
     "end_time": "2024-06-03T15:26:17.724748Z",
     "start_time": "2024-06-03T15:26:17.722983Z"
    }
   },
   "cell_type": "code",
   "source": "",
   "outputs": [],
   "execution_count": 16
  },
  {
   "metadata": {},
   "cell_type": "code",
   "outputs": [],
   "execution_count": null,
   "source": ""
  }
 ]
}
